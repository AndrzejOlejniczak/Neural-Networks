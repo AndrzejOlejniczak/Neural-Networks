{
 "cells": [
  {
   "cell_type": "markdown",
   "id": "cb367eca-6de2-49a4-9529-0f06abb3e4df",
   "metadata": {},
   "source": [
    "## 6. Cooking the final model still"
   ]
  },
  {
   "cell_type": "code",
   "execution_count": 1,
   "id": "f05fbce6-7b1e-45b8-af65-84e2dfcf72c8",
   "metadata": {},
   "outputs": [],
   "source": [
    "# Import modules\n",
    "import os\n",
    "import tensorflow as tf\n",
    "import matplotlib.image as mpimg\n",
    "import matplotlib.pyplot as plt\n",
    "import pathlib\n",
    "import numpy as np"
   ]
  },
  {
   "cell_type": "code",
   "execution_count": 2,
   "id": "342eb8b9-8ad2-4f41-bc34-9a21deadfb26",
   "metadata": {},
   "outputs": [],
   "source": [
    "# Import keras layres modules\n",
    "from tensorflow.keras import Sequential\n",
    "from tensorflow.keras.layers import Conv2D, MaxPool2D, SpatialDropout2D, Flatten, Dense, Activation, AveragePooling2D"
   ]
  },
  {
   "cell_type": "code",
   "execution_count": 3,
   "id": "050cbfdf-ad3f-43fa-84bf-5e5c2def56b5",
   "metadata": {},
   "outputs": [],
   "source": [
    "# Define paths to data\n",
    "train_dir = 'data/10_food_classes/train/'\n",
    "test_dir = 'data/10_food_classes/test/'"
   ]
  },
  {
   "cell_type": "code",
   "execution_count": 4,
   "id": "1eb31fcf-6f4c-40c2-9e01-b7826561a3a5",
   "metadata": {},
   "outputs": [],
   "source": [
    "from tensorflow.keras.preprocessing.image import ImageDataGenerator"
   ]
  },
  {
   "cell_type": "code",
   "execution_count": 5,
   "id": "10a1f42f-9ac6-4209-a469-420fb16e1e87",
   "metadata": {},
   "outputs": [
    {
     "name": "stdout",
     "output_type": "stream",
     "text": [
      "Found 7500 images belonging to 10 classes.\n",
      "Found 7500 images belonging to 10 classes.\n",
      "Found 2500 images belonging to 10 classes.\n"
     ]
    }
   ],
   "source": [
    "# Create augmented and not augmented train datasets\n",
    "\n",
    "# Create data generators\n",
    "train_datagen_aug = ImageDataGenerator(rescale=1/255.,\n",
    "                                   rotation_range=.2,\n",
    "                                   shear_range=.2,\n",
    "                                   zoom_range=.2,\n",
    "                                   height_shift_range=.3,\n",
    "                                   horizontal_flip=True\n",
    "                                  )\n",
    "\n",
    "train_datagen = ImageDataGenerator(rescale=1/255.)\n",
    "\n",
    "test_datagen = ImageDataGenerator(rescale=1/255.)\n",
    "\n",
    "# Create batch flow from directories\n",
    "train_data_aug = train_datagen_aug.flow_from_directory(directory=train_dir,\n",
    "                                              target_size=(224, 224),\n",
    "                                              class_mode='categorical',\n",
    "                                              batch_size=32)\n",
    "\n",
    "train_data = train_datagen.flow_from_directory(directory=train_dir,\n",
    "                                              target_size=(224, 224),\n",
    "                                              class_mode='categorical',\n",
    "                                              batch_size=32)\n",
    "\n",
    "test_data = test_datagen.flow_from_directory(directory=test_dir,\n",
    "                                            target_size=(224, 224),\n",
    "                                            class_mode='categorical',\n",
    "                                            batch_size=32)"
   ]
  },
  {
   "cell_type": "markdown",
   "id": "ffddb7b1-b131-4949-86ee-3e6e9df98fce",
   "metadata": {},
   "source": [
    "Our prievious models did not perform well: (a) overfitting (b) low accuracy scores. \n",
    "\n",
    "### Create a model that:\n",
    "1. Has SpatialDropout2D(.25) *(previous models performed better on validation data, so we can turn regularization a bit down)*\n",
    "2. Has Dense layers architecture inspired by LeNet-5 *(this direction enhanced model performance before)\n",
    "3. The last Conv2D layer has 60 filters."
   ]
  },
  {
   "cell_type": "code",
   "execution_count": 8,
   "id": "f4484f27-6ee5-4d9f-a392-bb82b0534893",
   "metadata": {},
   "outputs": [],
   "source": [
    "lenet_5_model = Sequential([\n",
    "    Conv2D(6, kernel_size=5, strides=1,  activation='tanh', input_shape=(224, 224, 3), padding='same'), #C1\n",
    "    AveragePooling2D(), #S2\n",
    "    Conv2D(16, kernel_size=5, strides=1, activation='tanh', padding='valid'), #C3\n",
    "    AveragePooling2D(), #S4\n",
    "    Conv2D(120, kernel_size=5, strides=1, activation='tanh', padding='valid'), #C5\n",
    "    Flatten(), #Flatten    \n",
    "    Dense(84, activation='tanh'), #F6\n",
    "    Dense(10, activation='softmax') #Output layer\n",
    "])"
   ]
  },
  {
   "cell_type": "code",
   "execution_count": 9,
   "id": "602e59bc-3366-41e6-b5f0-53234168488e",
   "metadata": {},
   "outputs": [
    {
     "name": "stdout",
     "output_type": "stream",
     "text": [
      "Model: \"sequential_1\"\n",
      "_________________________________________________________________\n",
      "Layer (type)                 Output Shape              Param #   \n",
      "=================================================================\n",
      "conv2d_3 (Conv2D)            (None, 224, 224, 6)       456       \n",
      "_________________________________________________________________\n",
      "average_pooling2d_2 (Average (None, 112, 112, 6)       0         \n",
      "_________________________________________________________________\n",
      "conv2d_4 (Conv2D)            (None, 108, 108, 16)      2416      \n",
      "_________________________________________________________________\n",
      "average_pooling2d_3 (Average (None, 54, 54, 16)        0         \n",
      "_________________________________________________________________\n",
      "conv2d_5 (Conv2D)            (None, 50, 50, 120)       48120     \n",
      "_________________________________________________________________\n",
      "flatten_1 (Flatten)          (None, 300000)            0         \n",
      "_________________________________________________________________\n",
      "dense_2 (Dense)              (None, 84)                25200084  \n",
      "_________________________________________________________________\n",
      "dense_3 (Dense)              (None, 10)                850       \n",
      "=================================================================\n",
      "Total params: 25,251,926\n",
      "Trainable params: 25,251,926\n",
      "Non-trainable params: 0\n",
      "_________________________________________________________________\n"
     ]
    }
   ],
   "source": [
    "lenet_5_model.summary()"
   ]
  },
  {
   "cell_type": "code",
   "execution_count": 11,
   "id": "b1f9d48e-cc21-4646-afa1-6b9b34f0cbe5",
   "metadata": {},
   "outputs": [],
   "source": [
    "# We set learning rate:\n",
    "lr = 0.0005"
   ]
  },
  {
   "cell_type": "code",
   "execution_count": 28,
   "id": "801d5ccb-66fa-4815-814e-42c93c55467c",
   "metadata": {
    "tags": []
   },
   "outputs": [],
   "source": [
    "# Create a model like LeNet-5 implementation: https://medium.com/analytics-vidhya/dense-or-convolutional-part-1-c75c59c5b4ad\n",
    "model_11 = Sequential([\n",
    "    Conv2D(10, 3, input_shape=(224, 224, 3)),\n",
    "    Activation('relu'),\n",
    "    SpatialDropout2D(0.25),\n",
    "    MaxPool2D(),\n",
    "    Conv2D(10,3),\n",
    "    Activation('relu'),\n",
    "    MaxPool2D(),\n",
    "    Conv2D(60, 3),\n",
    "    MaxPool2D(),\n",
    "    Flatten(),\n",
    "    Dense(64, activation='relu'),\n",
    "    Dense(10, activation='softmax')\n",
    "])\n",
    "\n",
    "# Compile the model\n",
    "model_11.compile(loss=tf.keras.losses.CategoricalCrossentropy(),\n",
    "               optimizer=tf.keras.optimizers.Adam(learning_rate=lr),\n",
    "               metrics=['accuracy'])"
   ]
  },
  {
   "cell_type": "code",
   "execution_count": 29,
   "id": "94903070-7c46-433c-838d-dcceb6b819f9",
   "metadata": {},
   "outputs": [
    {
     "name": "stdout",
     "output_type": "stream",
     "text": [
      "Model: \"sequential_8\"\n",
      "_________________________________________________________________\n",
      "Layer (type)                 Output Shape              Param #   \n",
      "=================================================================\n",
      "conv2d_22 (Conv2D)           (None, 222, 222, 10)      280       \n",
      "_________________________________________________________________\n",
      "activation_14 (Activation)   (None, 222, 222, 10)      0         \n",
      "_________________________________________________________________\n",
      "spatial_dropout2d_7 (Spatial (None, 222, 222, 10)      0         \n",
      "_________________________________________________________________\n",
      "max_pooling2d_19 (MaxPooling (None, 111, 111, 10)      0         \n",
      "_________________________________________________________________\n",
      "conv2d_23 (Conv2D)           (None, 109, 109, 10)      910       \n",
      "_________________________________________________________________\n",
      "activation_15 (Activation)   (None, 109, 109, 10)      0         \n",
      "_________________________________________________________________\n",
      "max_pooling2d_20 (MaxPooling (None, 54, 54, 10)        0         \n",
      "_________________________________________________________________\n",
      "conv2d_24 (Conv2D)           (None, 52, 52, 60)        5460      \n",
      "_________________________________________________________________\n",
      "max_pooling2d_21 (MaxPooling (None, 26, 26, 60)        0         \n",
      "_________________________________________________________________\n",
      "flatten_8 (Flatten)          (None, 40560)             0         \n",
      "_________________________________________________________________\n",
      "dense_18 (Dense)             (None, 64)                2595904   \n",
      "_________________________________________________________________\n",
      "dense_19 (Dense)             (None, 10)                650       \n",
      "=================================================================\n",
      "Total params: 2,603,204\n",
      "Trainable params: 2,603,204\n",
      "Non-trainable params: 0\n",
      "_________________________________________________________________\n"
     ]
    }
   ],
   "source": [
    "model_11.summary()"
   ]
  },
  {
   "cell_type": "code",
   "execution_count": 30,
   "id": "dc3e575e-9f44-4e9d-989c-3c330083b3d7",
   "metadata": {},
   "outputs": [
    {
     "name": "stdout",
     "output_type": "stream",
     "text": [
      "Epoch 1/10\n",
      "235/235 [==============================] - 247s 1s/step - loss: 2.3086 - accuracy: 0.1287 - val_loss: 2.1863 - val_accuracy: 0.2108\n",
      "Epoch 2/10\n",
      "235/235 [==============================] - 246s 1s/step - loss: 2.2157 - accuracy: 0.1717 - val_loss: 2.1269 - val_accuracy: 0.2252\n",
      "Epoch 3/10\n",
      "235/235 [==============================] - 166s 708ms/step - loss: 2.1660 - accuracy: 0.2063 - val_loss: 2.0682 - val_accuracy: 0.2768\n",
      "Epoch 4/10\n",
      "235/235 [==============================] - 205s 873ms/step - loss: 2.1176 - accuracy: 0.2372 - val_loss: 1.9703 - val_accuracy: 0.3280\n",
      "Epoch 5/10\n",
      "235/235 [==============================] - 174s 742ms/step - loss: 2.0765 - accuracy: 0.2565 - val_loss: 1.9703 - val_accuracy: 0.3044\n",
      "Epoch 6/10\n",
      "235/235 [==============================] - 194s 826ms/step - loss: 2.0345 - accuracy: 0.2707 - val_loss: 1.9314 - val_accuracy: 0.3168\n",
      "Epoch 7/10\n",
      "235/235 [==============================] - 203s 863ms/step - loss: 1.9983 - accuracy: 0.2876 - val_loss: 1.8729 - val_accuracy: 0.3572\n",
      "Epoch 8/10\n",
      "235/235 [==============================] - 212s 903ms/step - loss: 1.9657 - accuracy: 0.3056 - val_loss: 1.8163 - val_accuracy: 0.3776\n",
      "Epoch 9/10\n",
      "235/235 [==============================] - 173s 738ms/step - loss: 1.9414 - accuracy: 0.3135 - val_loss: 1.8024 - val_accuracy: 0.3912\n",
      "Epoch 10/10\n",
      "235/235 [==============================] - 227s 967ms/step - loss: 1.8993 - accuracy: 0.3313 - val_loss: 1.7935 - val_accuracy: 0.3688\n"
     ]
    }
   ],
   "source": [
    "# Train the model\n",
    "history_11 = model_11.fit(train_data_aug, \n",
    "                          epochs=10, \n",
    "                          steps_per_epoch=len(train_data_aug), \n",
    "                         validation_data=test_data, \n",
    "                         validation_steps=len(test_data))"
   ]
  },
  {
   "cell_type": "code",
   "execution_count": 31,
   "id": "e7f63ce1-e7a6-4dce-bcdb-f6238bbe140c",
   "metadata": {},
   "outputs": [],
   "source": [
    "# Plot validation and training curves separately\n",
    "def plot_the_curves(history):\n",
    "    '''\n",
    "    Returns separate loss curves for training and validation data\n",
    "    '''\n",
    "    # Obtain loss from history\n",
    "    loss = history.history['loss']\n",
    "    val_loss = history.history['val_loss']\n",
    "    \n",
    "    # Obtain accuracy from history\n",
    "    accuracy = history.history['accuracy']\n",
    "    val_accuracy = history.history['val_accuracy']\n",
    "    \n",
    "    # Obtain number of epochs\n",
    "    epochs = range(len(history.history['loss']))\n",
    "    \n",
    "    # Setup the figure\n",
    "    plt.figure(figsize=(24, 6))\n",
    "    plt.suptitle(f'Model {history.model.name} metrics', fontsize='x-large')\n",
    "    \n",
    "    # Plot loss\n",
    "    plt.subplot(1, 2, 1)\n",
    "    ax1 = plt.plot(epochs, loss, label='Training Loss')\n",
    "    ax1 = plt.plot(epochs, val_loss, label='Validation Loss')\n",
    "    plt.legend()\n",
    "    plt.title('Loss Curves')\n",
    "                  \n",
    "    # Plot Accuracy\n",
    "    plt.subplot(1, 2, 2)\n",
    "    plt.plot(epochs, accuracy, label='Accuracy')\n",
    "    plt.plot(epochs, val_accuracy, label='Validation Accuracy')\n",
    "    plt.legend()\n",
    "    plt.title('Accuracy Curves')"
   ]
  },
  {
   "cell_type": "code",
   "execution_count": 32,
   "id": "0d027ef7-d638-4437-b3d2-35624dab28f5",
   "metadata": {},
   "outputs": [
    {
     "data": {
      "image/png": "[encoded data removed]",
      "text/plain": [
       "<Figure size 1728x432 with 2 Axes>"
      ]
     },
     "metadata": {
      "needs_background": "light"
     },
     "output_type": "display_data"
    }
   ],
   "source": [
    "plot_the_curves(history_11)"
   ]
  },
  {
   "cell_type": "code",
   "execution_count": 33,
   "id": "8ff7e3ab-e5f6-41f9-893d-e85cd17dd9e2",
   "metadata": {},
   "outputs": [],
   "source": [
    "# Create a new model that will be trained for longer \n",
    "model_11_1= tf.keras.models.clone_model(model_11)"
   ]
  },
  {
   "cell_type": "code",
   "execution_count": 34,
   "id": "65622e13-b98a-489b-9641-3a0837279ef3",
   "metadata": {},
   "outputs": [],
   "source": [
    "# Compile the model\n",
    "model_11_1.compile(loss=tf.keras.losses.CategoricalCrossentropy(),\n",
    "               optimizer=tf.keras.optimizers.Adam(learning_rate=lr),\n",
    "               metrics=['accuracy'])"
   ]
  },
  {
   "cell_type": "code",
   "execution_count": 35,
   "id": "9bf48d05-585a-431a-bbb9-7c41f5db4671",
   "metadata": {},
   "outputs": [
    {
     "name": "stdout",
     "output_type": "stream",
     "text": [
      "Epoch 1/20\n",
      "235/235 [==============================] - 191s 815ms/step - loss: 2.2608 - accuracy: 0.1451 - val_loss: 2.1446 - val_accuracy: 0.2064\n",
      "Epoch 2/20\n",
      "235/235 [==============================] - 194s 827ms/step - loss: 2.1757 - accuracy: 0.2043 - val_loss: 2.0018 - val_accuracy: 0.3104\n",
      "Epoch 3/20\n",
      "235/235 [==============================] - 222s 943ms/step - loss: 2.0964 - accuracy: 0.2413 - val_loss: 1.9620 - val_accuracy: 0.3088\n",
      "Epoch 4/20\n",
      "235/235 [==============================] - 207s 881ms/step - loss: 2.0314 - accuracy: 0.2797 - val_loss: 1.8825 - val_accuracy: 0.3416\n",
      "Epoch 5/20\n",
      "235/235 [==============================] - 175s 746ms/step - loss: 1.9885 - accuracy: 0.2976 - val_loss: 1.8465 - val_accuracy: 0.3608\n",
      "Epoch 6/20\n",
      "235/235 [==============================] - 173s 736ms/step - loss: 1.9681 - accuracy: 0.3093 - val_loss: 1.8222 - val_accuracy: 0.3640\n",
      "Epoch 7/20\n",
      "235/235 [==============================] - 194s 826ms/step - loss: 1.9189 - accuracy: 0.3255 - val_loss: 1.8689 - val_accuracy: 0.3464\n",
      "Epoch 8/20\n",
      "235/235 [==============================] - 194s 825ms/step - loss: 1.9039 - accuracy: 0.3343 - val_loss: 1.8344 - val_accuracy: 0.3584\n",
      "Epoch 9/20\n",
      "235/235 [==============================] - 199s 845ms/step - loss: 1.8827 - accuracy: 0.3404 - val_loss: 1.7663 - val_accuracy: 0.3936\n",
      "Epoch 10/20\n",
      "235/235 [==============================] - 228s 971ms/step - loss: 1.8672 - accuracy: 0.3505 - val_loss: 1.7340 - val_accuracy: 0.4044\n",
      "Epoch 11/20\n",
      "235/235 [==============================] - 279s 1s/step - loss: 1.8446 - accuracy: 0.3577 - val_loss: 1.7833 - val_accuracy: 0.3828\n",
      "Epoch 12/20\n",
      "235/235 [==============================] - 286s 1s/step - loss: 1.8322 - accuracy: 0.3640 - val_loss: 1.7244 - val_accuracy: 0.4036\n",
      "Epoch 13/20\n",
      "235/235 [==============================] - 280s 1s/step - loss: 1.8236 - accuracy: 0.3656 - val_loss: 1.7752 - val_accuracy: 0.4012\n",
      "Epoch 14/20\n",
      "235/235 [==============================] - 295s 1s/step - loss: 1.8147 - accuracy: 0.3692 - val_loss: 1.7193 - val_accuracy: 0.4044\n",
      "Epoch 15/20\n",
      "235/235 [==============================] - 300s 1s/step - loss: 1.7992 - accuracy: 0.3791 - val_loss: 1.7869 - val_accuracy: 0.3804\n",
      "Epoch 16/20\n",
      "235/235 [==============================] - 301s 1s/step - loss: 1.7856 - accuracy: 0.3836 - val_loss: 1.9479 - val_accuracy: 0.3092\n",
      "Epoch 17/20\n",
      "235/235 [==============================] - 298s 1s/step - loss: 1.7852 - accuracy: 0.3785 - val_loss: 1.7826 - val_accuracy: 0.3984\n",
      "Epoch 18/20\n",
      "235/235 [==============================] - 287s 1s/step - loss: 1.7635 - accuracy: 0.3860 - val_loss: 1.7327 - val_accuracy: 0.4088\n",
      "Epoch 19/20\n",
      "235/235 [==============================] - 296s 1s/step - loss: 1.7566 - accuracy: 0.3912 - val_loss: 1.6997 - val_accuracy: 0.4144\n",
      "Epoch 20/20\n",
      "235/235 [==============================] - 302s 1s/step - loss: 1.7435 - accuracy: 0.4017 - val_loss: 1.6901 - val_accuracy: 0.4212\n"
     ]
    }
   ],
   "source": [
    "# Fit the model\n",
    "history_11_1 = model_11_1.fit(train_data_aug, \n",
    "                              epochs=20, \n",
    "                              steps_per_epoch=len(train_data_aug), \n",
    "                              validation_data=test_data, \n",
    "                              validation_steps=len(test_data))"
   ]
  },
  {
   "cell_type": "markdown",
   "id": "163de30d-e2bb-4e25-aea0-102caa3003db",
   "metadata": {},
   "source": [
    "Still unsatifactory. Let's check how bare LeNet-5 performs on the data"
   ]
  },
  {
   "cell_type": "code",
   "execution_count": 12,
   "id": "de1c95f1-da4e-4116-95b9-23f9f3cbc7e9",
   "metadata": {},
   "outputs": [],
   "source": [
    "lenet_5_model.compile(loss=tf.keras.losses.CategoricalCrossentropy(),\n",
    "                     optimizer=tf.keras.optimizers.Adam(learning_rate=lr),\n",
    "                     metrics=['accuracy'])"
   ]
  },
  {
   "cell_type": "code",
   "execution_count": null,
   "id": "e3071261-64f9-4a0e-bc40-ce25ff8b25d3",
   "metadata": {},
   "outputs": [
    {
     "name": "stdout",
     "output_type": "stream",
     "text": [
      "Epoch 1/20\n",
      "235/235 [==============================] - 520s 2s/step - loss: 2.4235 - accuracy: 0.1063 - val_loss: 2.3094 - val_accuracy: 0.1000\n",
      "Epoch 2/20\n",
      "235/235 [==============================] - 454s 2s/step - loss: 2.3078 - accuracy: 0.0983 - val_loss: 2.3144 - val_accuracy: 0.1000\n",
      "Epoch 3/20\n",
      "235/235 [==============================] - 484s 2s/step - loss: 2.3088 - accuracy: 0.0919 - val_loss: 2.3052 - val_accuracy: 0.1000\n",
      "Epoch 4/20\n",
      "143/235 [=================>............] - ETA: 2:43 - loss: 2.3080 - accuracy: 0.0975"
     ]
    }
   ],
   "source": [
    "history_lenet_5 = lenet_5_model.fit(train_data_aug, \n",
    "                                    epochs=20, \n",
    "                                    steps_per_epoch=len(train_data_aug), \n",
    "                                    validation_data=test_data, \n",
    "                                    validation_steps=len(test_data))"
   ]
  },
  {
   "cell_type": "code",
   "execution_count": null,
   "id": "18efa93f-e7e7-4fda-a7ec-2fcbd0eae723",
   "metadata": {},
   "outputs": [],
   "source": []
  }
 ],
 "metadata": {
  "kernelspec": {
   "display_name": "Python [conda env:keras-gpu]",
   "language": "python",
   "name": "conda-env-keras-gpu-py"
  },
  "language_info": {
   "codemirror_mode": {
    "name": "ipython",
    "version": 3
   },
   "file_extension": ".py",
   "mimetype": "text/x-python",
   "name": "python",
   "nbconvert_exporter": "python",
   "pygments_lexer": "ipython3",
   "version": "3.7.12"
  }
 },
 "nbformat": 4,
 "nbformat_minor": 5
}
