{
 "cells": [
  {
   "cell_type": "code",
   "execution_count": 1,
   "id": "1cb9b701-c914-4a9c-93b3-18a240af9b04",
   "metadata": {},
   "outputs": [],
   "source": [
    "# Import modules\n",
    "\n",
    "import numpy as np\n",
    "import pandas as pd\n",
    "import tensorflow as tf\n",
    "import matplotlib.pyplot as plt"
   ]
  },
  {
   "cell_type": "code",
   "execution_count": 2,
   "id": "4cdda03f-e11c-4fb7-a2cb-a0664810cace",
   "metadata": {},
   "outputs": [
    {
     "data": {
      "text/plain": [
       "'2.3.0'"
      ]
     },
     "execution_count": 2,
     "metadata": {},
     "output_type": "execute_result"
    }
   ],
   "source": [
    "tf.__version__"
   ]
  },
  {
   "cell_type": "code",
   "execution_count": 3,
   "id": "cb5db447-9ab9-455d-937d-cafd6b9776e7",
   "metadata": {},
   "outputs": [],
   "source": [
    "# Import the data\n",
    "data = tf.keras.datasets.boston_housing.load_data()"
   ]
  },
  {
   "cell_type": "code",
   "execution_count": 4,
   "id": "1aee48a9-1995-4ee4-84cb-c0fd188d83a1",
   "metadata": {},
   "outputs": [
    {
     "data": {
      "text/plain": [
       "((404, 13), (404,))"
      ]
     },
     "execution_count": 4,
     "metadata": {},
     "output_type": "execute_result"
    }
   ],
   "source": [
    "data[0][0].shape, data[0][1].shape"
   ]
  },
  {
   "cell_type": "code",
   "execution_count": 5,
   "id": "b72a37e7-31dc-43a0-9301-27fe03b57453",
   "metadata": {},
   "outputs": [
    {
     "data": {
      "text/plain": [
       "((102, 13), (102,))"
      ]
     },
     "execution_count": 5,
     "metadata": {},
     "output_type": "execute_result"
    }
   ],
   "source": [
    "data[1][0].shape, data[1][1].shape"
   ]
  },
  {
   "cell_type": "code",
   "execution_count": 6,
   "id": "eb289775-4ce8-4ced-92ca-e2ebd993290a",
   "metadata": {},
   "outputs": [
    {
     "data": {
      "text/plain": [
       "(dtype('float64'), dtype('float64'))"
      ]
     },
     "execution_count": 6,
     "metadata": {},
     "output_type": "execute_result"
    }
   ],
   "source": [
    "X_train = data[0][0]\n",
    "y_train = data[0][1]\n",
    "\n",
    "X_train.dtype, y_train.dtype"
   ]
  },
  {
   "cell_type": "code",
   "execution_count": 7,
   "id": "8a6d1b0d-dc58-45de-8126-1615bf959084",
   "metadata": {},
   "outputs": [
    {
     "data": {
      "text/plain": [
       "(dtype('float64'), dtype('float64'))"
      ]
     },
     "execution_count": 7,
     "metadata": {},
     "output_type": "execute_result"
    }
   ],
   "source": [
    "X_test = data[1][0]\n",
    "y_test = data[1][1]\n",
    "\n",
    "X_test.dtype, y_test.dtype"
   ]
  },
  {
   "cell_type": "code",
   "execution_count": 8,
   "id": "a4c72b5f-2f51-4424-93ec-55bcadcf4c73",
   "metadata": {
    "collapsed": true,
    "jupyter": {
     "outputs_hidden": true
    },
    "tags": []
   },
   "outputs": [
    {
     "name": "stdout",
     "output_type": "stream",
     "text": [
      "Epoch 1/100\n",
      " 1/13 [=>............................] - ETA: 0s - loss: 202.4287 - mae: 202.4287WARNING:tensorflow:Callbacks method `on_train_batch_begin` is slow compared to the batch time (batch time: 0.0000s vs `on_train_batch_begin` time: 0.0010s). Check your callbacks.\n",
      "13/13 [==============================] - 0s 921us/step - loss: 42.5086 - mae: 42.5086\n",
      "Epoch 2/100\n",
      "13/13 [==============================] - 0s 836us/step - loss: 8.6330 - mae: 8.6330\n",
      "Epoch 3/100\n",
      "13/13 [==============================] - 0s 770us/step - loss: 6.2986 - mae: 6.2986\n",
      "Epoch 4/100\n",
      "13/13 [==============================] - 0s 703us/step - loss: 5.5657 - mae: 5.5657\n",
      "Epoch 5/100\n",
      "13/13 [==============================] - 0s 621us/step - loss: 4.9665 - mae: 4.9665\n",
      "Epoch 6/100\n",
      "13/13 [==============================] - 0s 909us/step - loss: 4.8556 - mae: 4.8556\n",
      "Epoch 7/100\n",
      "13/13 [==============================] - 0s 844us/step - loss: 4.9422 - mae: 4.9422\n",
      "Epoch 8/100\n",
      "13/13 [==============================] - 0s 817us/step - loss: 4.8876 - mae: 4.8876\n",
      "Epoch 9/100\n",
      "13/13 [==============================] - 0s 746us/step - loss: 4.9547 - mae: 4.9547\n",
      "Epoch 10/100\n",
      "13/13 [==============================] - 0s 729us/step - loss: 4.7295 - mae: 4.7295\n",
      "Epoch 11/100\n",
      "13/13 [==============================] - 0s 924us/step - loss: 4.8184 - mae: 4.8184\n",
      "Epoch 12/100\n",
      "13/13 [==============================] - 0s 844us/step - loss: 4.5822 - mae: 4.5822\n",
      "Epoch 13/100\n",
      "13/13 [==============================] - 0s 759us/step - loss: 4.5550 - mae: 4.5550\n",
      "Epoch 14/100\n",
      "13/13 [==============================] - 0s 726us/step - loss: 4.4465 - mae: 4.4465\n",
      "Epoch 15/100\n",
      "13/13 [==============================] - 0s 919us/step - loss: 4.3660 - mae: 4.3660\n",
      "Epoch 16/100\n",
      "13/13 [==============================] - 0s 844us/step - loss: 4.4050 - mae: 4.4050\n",
      "Epoch 17/100\n",
      "13/13 [==============================] - 0s 835us/step - loss: 4.3879 - mae: 4.3879\n",
      "Epoch 18/100\n",
      "13/13 [==============================] - 0s 767us/step - loss: 4.5047 - mae: 4.5047\n",
      "Epoch 19/100\n",
      "13/13 [==============================] - 0s 904us/step - loss: 4.4959 - mae: 4.4959\n",
      "Epoch 20/100\n",
      "13/13 [==============================] - 0s 923us/step - loss: 4.7843 - mae: 4.7843\n",
      "Epoch 21/100\n",
      "13/13 [==============================] - 0s 844us/step - loss: 4.3759 - mae: 4.3759\n",
      "Epoch 22/100\n",
      "13/13 [==============================] - 0s 844us/step - loss: 4.5519 - mae: 4.5519\n",
      "Epoch 23/100\n",
      "13/13 [==============================] - 0s 707us/step - loss: 4.3635 - mae: 4.3635\n",
      "Epoch 24/100\n",
      "13/13 [==============================] - 0s 722us/step - loss: 4.3685 - mae: 4.3685\n",
      "Epoch 25/100\n",
      "13/13 [==============================] - 0s 859us/step - loss: 4.1727 - mae: 4.1727\n",
      "Epoch 26/100\n",
      "13/13 [==============================] - 0s 844us/step - loss: 4.1494 - mae: 4.1494\n",
      "Epoch 27/100\n",
      "13/13 [==============================] - 0s 769us/step - loss: 4.3237 - mae: 4.3237\n",
      "Epoch 28/100\n",
      "13/13 [==============================] - 0s 707us/step - loss: 4.1632 - mae: 4.1632\n",
      "Epoch 29/100\n",
      "13/13 [==============================] - 0s 833us/step - loss: 3.9133 - mae: 3.9133\n",
      "Epoch 30/100\n",
      "13/13 [==============================] - 0s 767us/step - loss: 3.8669 - mae: 3.8669\n",
      "Epoch 31/100\n",
      "13/13 [==============================] - 0s 767us/step - loss: 3.8076 - mae: 3.8076\n",
      "Epoch 32/100\n",
      "13/13 [==============================] - 0s 722us/step - loss: 3.9913 - mae: 3.9913\n",
      "Epoch 33/100\n",
      "13/13 [==============================] - 0s 875us/step - loss: 3.9630 - mae: 3.9630\n",
      "Epoch 34/100\n",
      "13/13 [==============================] - 0s 767us/step - loss: 4.2994 - mae: 4.2994\n",
      "Epoch 35/100\n",
      "13/13 [==============================] - 0s 715us/step - loss: 3.8577 - mae: 3.8577\n",
      "Epoch 36/100\n",
      "13/13 [==============================] - 0s 725us/step - loss: 4.0017 - mae: 4.0017\n",
      "Epoch 37/100\n",
      "13/13 [==============================] - 0s 805us/step - loss: 4.6231 - mae: 4.6231\n",
      "Epoch 38/100\n",
      "13/13 [==============================] - 0s 767us/step - loss: 4.2104 - mae: 4.2104\n",
      "Epoch 39/100\n",
      "13/13 [==============================] - 0s 731us/step - loss: 3.8339 - mae: 3.8339\n",
      "Epoch 40/100\n",
      "13/13 [==============================] - 0s 651us/step - loss: 3.8010 - mae: 3.8010\n",
      "Epoch 41/100\n",
      "13/13 [==============================] - 0s 690us/step - loss: 4.0284 - mae: 4.0284\n",
      "Epoch 42/100\n",
      "13/13 [==============================] - 0s 690us/step - loss: 4.4837 - mae: 4.4837\n",
      "Epoch 43/100\n",
      "13/13 [==============================] - 0s 708us/step - loss: 3.9811 - mae: 3.9811\n",
      "Epoch 44/100\n",
      "13/13 [==============================] - 0s 767us/step - loss: 3.7696 - mae: 3.7696\n",
      "Epoch 45/100\n",
      "13/13 [==============================] - 0s 826us/step - loss: 3.5989 - mae: 3.5989\n",
      "Epoch 46/100\n",
      "13/13 [==============================] - 0s 766us/step - loss: 3.6628 - mae: 3.6628\n",
      "Epoch 47/100\n",
      "13/13 [==============================] - 0s 767us/step - loss: 3.9200 - mae: 3.9200\n",
      "Epoch 48/100\n",
      "13/13 [==============================] - 0s 758us/step - loss: 3.6848 - mae: 3.6848\n",
      "Epoch 49/100\n",
      "13/13 [==============================] - 0s 690us/step - loss: 3.5785 - mae: 3.5785\n",
      "Epoch 50/100\n",
      "13/13 [==============================] - 0s 690us/step - loss: 3.4361 - mae: 3.4361\n",
      "Epoch 51/100\n",
      "13/13 [==============================] - 0s 686us/step - loss: 3.4509 - mae: 3.4509\n",
      "Epoch 52/100\n",
      "13/13 [==============================] - 0s 703us/step - loss: 3.9239 - mae: 3.9239\n",
      "Epoch 53/100\n",
      "13/13 [==============================] - 0s 771us/step - loss: 3.6759 - mae: 3.6759\n",
      "Epoch 54/100\n",
      "13/13 [==============================] - 0s 693us/step - loss: 3.4001 - mae: 3.4001\n",
      "Epoch 55/100\n",
      "13/13 [==============================] - 0s 723us/step - loss: 3.6671 - mae: 3.6671\n",
      "Epoch 56/100\n",
      "13/13 [==============================] - 0s 767us/step - loss: 3.6708 - mae: 3.6708\n",
      "Epoch 57/100\n",
      "13/13 [==============================] - 0s 738us/step - loss: 4.0712 - mae: 4.0712\n",
      "Epoch 58/100\n",
      "13/13 [==============================] - 0s 735us/step - loss: 3.6075 - mae: 3.6075\n",
      "Epoch 59/100\n",
      "13/13 [==============================] - 0s 742us/step - loss: 3.7064 - mae: 3.7064\n",
      "Epoch 60/100\n",
      "13/13 [==============================] - 0s 767us/step - loss: 3.5285 - mae: 3.5285\n",
      "Epoch 61/100\n",
      "13/13 [==============================] - 0s 673us/step - loss: 3.4945 - mae: 3.4945\n",
      "Epoch 62/100\n",
      "13/13 [==============================] - 0s 746us/step - loss: 3.4032 - mae: 3.4032\n",
      "Epoch 63/100\n",
      "13/13 [==============================] - 0s 844us/step - loss: 3.5437 - mae: 3.5437\n",
      "Epoch 64/100\n",
      "13/13 [==============================] - 0s 767us/step - loss: 3.9194 - mae: 3.9194\n",
      "Epoch 65/100\n",
      "13/13 [==============================] - 0s 729us/step - loss: 3.7545 - mae: 3.7545\n",
      "Epoch 66/100\n",
      "13/13 [==============================] - 0s 762us/step - loss: 3.3304 - mae: 3.3304\n",
      "Epoch 67/100\n",
      "13/13 [==============================] - 0s 767us/step - loss: 3.3789 - mae: 3.3789\n",
      "Epoch 68/100\n",
      "13/13 [==============================] - 0s 770us/step - loss: 3.7962 - mae: 3.7962\n",
      "Epoch 69/100\n",
      "13/13 [==============================] - 0s 669us/step - loss: 3.4027 - mae: 3.4027\n",
      "Epoch 70/100\n",
      "13/13 [==============================] - 0s 753us/step - loss: 3.4113 - mae: 3.4113\n",
      "Epoch 71/100\n",
      "13/13 [==============================] - 0s 769us/step - loss: 3.3839 - mae: 3.3839\n",
      "Epoch 72/100\n",
      "13/13 [==============================] - 0s 765us/step - loss: 3.8538 - mae: 3.8538\n",
      "Epoch 73/100\n",
      "13/13 [==============================] - 0s 794us/step - loss: 3.5949 - mae: 3.5949\n",
      "Epoch 74/100\n",
      "13/13 [==============================] - 0s 599us/step - loss: 3.3416 - mae: 3.3416\n",
      "Epoch 75/100\n",
      "13/13 [==============================] - 0s 690us/step - loss: 3.1877 - mae: 3.1877\n",
      "Epoch 76/100\n",
      "13/13 [==============================] - 0s 652us/step - loss: 3.1421 - mae: 3.1421\n",
      "Epoch 77/100\n",
      "13/13 [==============================] - 0s 690us/step - loss: 3.4937 - mae: 3.4937\n",
      "Epoch 78/100\n",
      "13/13 [==============================] - 0s 844us/step - loss: 3.2182 - mae: 3.2182\n",
      "Epoch 79/100\n",
      "13/13 [==============================] - 0s 767us/step - loss: 3.6236 - mae: 3.6236\n",
      "Epoch 80/100\n",
      "13/13 [==============================] - 0s 766us/step - loss: 3.2639 - mae: 3.2639\n",
      "Epoch 81/100\n",
      "13/13 [==============================] - 0s 690us/step - loss: 3.1359 - mae: 3.1359\n",
      "Epoch 82/100\n",
      "13/13 [==============================] - 0s 765us/step - loss: 3.1958 - mae: 3.1958\n",
      "Epoch 83/100\n",
      "13/13 [==============================] - ETA: 0s - loss: 3.4308 - mae: 3.430 - 0s 718us/step - loss: 3.0958 - mae: 3.0958\n",
      "Epoch 84/100\n",
      "13/13 [==============================] - 0s 690us/step - loss: 3.3404 - mae: 3.3404\n",
      "Epoch 85/100\n",
      "13/13 [==============================] - 0s 844us/step - loss: 3.6630 - mae: 3.6630\n",
      "Epoch 86/100\n",
      "13/13 [==============================] - 0s 767us/step - loss: 3.2292 - mae: 3.2292\n",
      "Epoch 87/100\n",
      "13/13 [==============================] - 0s 755us/step - loss: 3.1545 - mae: 3.1545\n",
      "Epoch 88/100\n",
      "13/13 [==============================] - 0s 706us/step - loss: 3.6539 - mae: 3.6539\n",
      "Epoch 89/100\n",
      "13/13 [==============================] - 0s 767us/step - loss: 3.9867 - mae: 3.9867\n",
      "Epoch 90/100\n",
      "13/13 [==============================] - 0s 767us/step - loss: 3.6293 - mae: 3.6293\n",
      "Epoch 91/100\n",
      "13/13 [==============================] - 0s 766us/step - loss: 3.3357 - mae: 3.3357\n",
      "Epoch 92/100\n",
      "13/13 [==============================] - 0s 690us/step - loss: 3.0705 - mae: 3.0705\n",
      "Epoch 93/100\n",
      "13/13 [==============================] - 0s 767us/step - loss: 3.0084 - mae: 3.0084\n",
      "Epoch 94/100\n",
      "13/13 [==============================] - 0s 690us/step - loss: 3.1128 - mae: 3.1128\n",
      "Epoch 95/100\n",
      "13/13 [==============================] - 0s 692us/step - loss: 3.2526 - mae: 3.2526\n",
      "Epoch 96/100\n",
      "13/13 [==============================] - 0s 919us/step - loss: 2.9966 - mae: 2.9966\n",
      "Epoch 97/100\n",
      "13/13 [==============================] - 0s 844us/step - loss: 2.9843 - mae: 2.9843\n",
      "Epoch 98/100\n",
      "13/13 [==============================] - 0s 1ms/step - loss: 3.0290 - mae: 3.0290\n",
      "Epoch 99/100\n",
      "13/13 [==============================] - 0s 768us/step - loss: 3.0026 - mae: 3.0026\n",
      "Epoch 100/100\n",
      "13/13 [==============================] - 0s 691us/step - loss: 3.0723 - mae: 3.0723\n"
     ]
    }
   ],
   "source": [
    "# Build a model\n",
    "tf.random.set_seed(42)\n",
    "\n",
    "# 1. Create a model\n",
    "\n",
    "model_1 = tf.keras.Sequential([\n",
    "    tf.keras.layers.Dense(169, \n",
    "                          input_shape=(13,), \n",
    "                          activation='selu'),\n",
    "    tf.keras.layers.Dense(13, \n",
    "                          input_shape=(169,), \n",
    "                          activation='selu'),\n",
    "    tf.keras.layers.Dense(1, input_shape=(13,))\n",
    "], name='model_1')\n",
    "\n",
    "# 2. Compile the model\n",
    "\n",
    "model_1.compile(loss=tf.keras.losses.mae,\n",
    "               optimizer=tf.keras.optimizers.Adam(learning_rate=0.005),\n",
    "               metrics=['mae'])\n",
    "\n",
    "# 3. Fit the model\n",
    "\n",
    "history_m1 = model_1.fit(X_train, y_train, epochs=100)"
   ]
  },
  {
   "cell_type": "code",
   "execution_count": 9,
   "id": "a1a9b43b-8067-4964-945e-79b9916aa7a9",
   "metadata": {},
   "outputs": [
    {
     "name": "stdout",
     "output_type": "stream",
     "text": [
      "4/4 [==============================] - 0s 508us/step - loss: 3.4433 - mae: 3.4433\n"
     ]
    },
    {
     "data": {
      "text/plain": [
       "[3.443312168121338, 3.443312168121338]"
      ]
     },
     "execution_count": 9,
     "metadata": {},
     "output_type": "execute_result"
    }
   ],
   "source": [
    "model_1.evaluate(X_test, y_test)"
   ]
  },
  {
   "cell_type": "code",
   "execution_count": 36,
   "id": "c85d32a9-083d-42a0-85fe-ab0d1d33c433",
   "metadata": {},
   "outputs": [],
   "source": [
    "def compare_preds(model=model_1, X_test=X_test, y_test=y_test):\n",
    "    # Construe the perfect prediction axis\n",
    "    line_x = np.linspace(np.min(y_test)-np.std(y_test), np.max(y_test)+np.std(y_test),100)\n",
    "    line_y = line_x\n",
    "    \n",
    "    # Construe the loss function brackets\n",
    "    evaluation = model.evaluate(X_test, y_test)\n",
    "    line_loss_upper = line_y + evaluation[1]\n",
    "    line_loss_lower = line_y - evaluation[1]\n",
    "        \n",
    "    plt.figure(figsize=(10,10))\n",
    "    plt.scatter(y_test, model.predict(X_test), alpha=0.35)\n",
    "    plt.plot(line_x, line_y, color='r')\n",
    "    plt.plot(line_x, \n",
    "             line_loss_upper, \n",
    "             linestyle='--', \n",
    "             color='gray', \n",
    "             label=model.metrics_names[1])\n",
    "    plt.plot(line_x, \n",
    "             line_loss_lower, \n",
    "             linestyle='--', \n",
    "             color='gray', \n",
    "             label=model.metrics_names[1])\n",
    "    plt.xlabel('true values')\n",
    "    plt.ylabel('predictions')\n",
    "    plt.legend()\n",
    "    plt.show()"
   ]
  },
  {
   "cell_type": "code",
   "execution_count": 37,
   "id": "cf705fd6-228a-4408-9cfd-dd5d119dd464",
   "metadata": {},
   "outputs": [
    {
     "name": "stdout",
     "output_type": "stream",
     "text": [
      "4/4 [==============================] - 0s 2ms/step - loss: 3.4433 - mae: 3.4433\n"
     ]
    },
    {
     "data": {
      "image/png": "[encoded data removed]",
      "text/plain": [
       "<Figure size 720x720 with 1 Axes>"
      ]
     },
     "metadata": {
      "needs_background": "light"
     },
     "output_type": "display_data"
    }
   ],
   "source": [
    "compare_preds(model_1, X_test, y_test)"
   ]
  },
  {
   "cell_type": "code",
   "execution_count": 22,
   "id": "e54b6004-e462-4248-a038-376ddf8f1a1a",
   "metadata": {},
   "outputs": [
    {
     "name": "stdout",
     "output_type": "stream",
     "text": [
      "4/4 [==============================] - 0s 737us/step - loss: 3.4433 - mae: 3.4433\n"
     ]
    }
   ],
   "source": [
    "rxs = model_1.evaluate(X_test, y_test)"
   ]
  },
  {
   "cell_type": "code",
   "execution_count": 23,
   "id": "7f06614b-1053-4411-9d89-d550057f3ff3",
   "metadata": {},
   "outputs": [
    {
     "data": {
      "text/plain": [
       "[3.443312168121338, 3.443312168121338]"
      ]
     },
     "execution_count": 23,
     "metadata": {},
     "output_type": "execute_result"
    }
   ],
   "source": [
    "rxs"
   ]
  },
  {
   "cell_type": "code",
   "execution_count": 38,
   "id": "c0a1ac27-5b4d-4f60-a26f-42201c77f243",
   "metadata": {},
   "outputs": [
    {
     "name": "stdout",
     "output_type": "stream",
     "text": [
      "Epoch 1/100\n",
      "13/13 [==============================] - 0s 693us/step - loss: 140.1669 - mae: 140.1669\n",
      "Epoch 2/100\n",
      "13/13 [==============================] - 0s 844us/step - loss: 49.0923 - mae: 49.0923\n",
      "Epoch 3/100\n",
      "13/13 [==============================] - 0s 690us/step - loss: 15.5552 - mae: 15.5552\n",
      "Epoch 4/100\n",
      "13/13 [==============================] - 0s 614us/step - loss: 9.7471 - mae: 9.7471\n",
      "Epoch 5/100\n",
      "13/13 [==============================] - 0s 1000us/step - loss: 6.7179 - mae: 6.7179\n",
      "Epoch 6/100\n",
      "13/13 [==============================] - 0s 1ms/step - loss: 6.2452 - mae: 6.2452\n",
      "Epoch 7/100\n",
      "13/13 [==============================] - 0s 1ms/step - loss: 6.0261 - mae: 6.0261\n",
      "Epoch 8/100\n",
      "13/13 [==============================] - 0s 997us/step - loss: 8.0272 - mae: 8.0272\n",
      "Epoch 9/100\n",
      "13/13 [==============================] - 0s 1ms/step - loss: 7.4860 - mae: 7.4860\n",
      "Epoch 10/100\n",
      "13/13 [==============================] - 0s 1ms/step - loss: 6.8474 - mae: 6.8474\n",
      "Epoch 11/100\n",
      "13/13 [==============================] - 0s 1ms/step - loss: 7.2976 - mae: 7.2976\n",
      "Epoch 12/100\n",
      "13/13 [==============================] - 0s 995us/step - loss: 9.5861 - mae: 9.5861\n",
      "Epoch 13/100\n",
      "13/13 [==============================] - 0s 992us/step - loss: 8.1982 - mae: 8.1982\n",
      "Epoch 14/100\n",
      "13/13 [==============================] - 0s 921us/step - loss: 6.4814 - mae: 6.4814\n",
      "Epoch 15/100\n",
      "13/13 [==============================] - 0s 670us/step - loss: 7.8454 - mae: 7.8454\n",
      "Epoch 16/100\n",
      "13/13 [==============================] - 0s 716us/step - loss: 8.5091 - mae: 8.5091\n",
      "Epoch 17/100\n",
      "13/13 [==============================] - 0s 704us/step - loss: 9.5029 - mae: 9.5029\n",
      "Epoch 18/100\n",
      "13/13 [==============================] - 0s 904us/step - loss: 7.2835 - mae: 7.2835\n",
      "Epoch 19/100\n",
      "13/13 [==============================] - 0s 977us/step - loss: 6.7334 - mae: 6.7334\n",
      "Epoch 20/100\n",
      "13/13 [==============================] - 0s 921us/step - loss: 5.9700 - mae: 5.9700\n",
      "Epoch 21/100\n",
      "13/13 [==============================] - 0s 921us/step - loss: 8.6997 - mae: 8.6997\n",
      "Epoch 22/100\n",
      "13/13 [==============================] - 0s 921us/step - loss: 6.6868 - mae: 6.6868\n",
      "Epoch 23/100\n",
      "13/13 [==============================] - 0s 903us/step - loss: 5.3471 - mae: 5.3471\n",
      "Epoch 24/100\n",
      "13/13 [==============================] - 0s 663us/step - loss: 7.2640 - mae: 7.2640\n",
      "Epoch 25/100\n",
      "13/13 [==============================] - 0s 636us/step - loss: 7.8930 - mae: 7.8930\n",
      "Epoch 26/100\n",
      "13/13 [==============================] - 0s 832us/step - loss: 7.4112 - mae: 7.4112\n",
      "Epoch 27/100\n",
      "13/13 [==============================] - 0s 997us/step - loss: 6.1453 - mae: 6.1453\n",
      "Epoch 28/100\n",
      "13/13 [==============================] - 0s 921us/step - loss: 6.3799 - mae: 6.3799\n",
      "Epoch 29/100\n",
      "13/13 [==============================] - 0s 918us/step - loss: 5.2602 - mae: 5.2602\n",
      "Epoch 30/100\n",
      "13/13 [==============================] - 0s 767us/step - loss: 8.0551 - mae: 8.0551\n",
      "Epoch 31/100\n",
      "13/13 [==============================] - 0s 690us/step - loss: 8.7600 - mae: 8.7600\n",
      "Epoch 32/100\n",
      "13/13 [==============================] - 0s 823us/step - loss: 7.9369 - mae: 7.9369\n",
      "Epoch 33/100\n",
      "13/13 [==============================] - 0s 996us/step - loss: 8.1550 - mae: 8.1550\n",
      "Epoch 34/100\n",
      "13/13 [==============================] - 0s 995us/step - loss: 8.6950 - mae: 8.6950\n",
      "Epoch 35/100\n",
      "13/13 [==============================] - 0s 921us/step - loss: 8.8176 - mae: 8.8176\n",
      "Epoch 36/100\n",
      "13/13 [==============================] - 0s 921us/step - loss: 6.8573 - mae: 6.8573\n",
      "Epoch 37/100\n",
      "13/13 [==============================] - 0s 915us/step - loss: 5.8463 - mae: 5.8463\n",
      "Epoch 38/100\n",
      "13/13 [==============================] - 0s 611us/step - loss: 5.1052 - mae: 5.1052\n",
      "Epoch 39/100\n",
      "13/13 [==============================] - 0s 700us/step - loss: 5.6313 - mae: 5.6313\n",
      "Epoch 40/100\n",
      "13/13 [==============================] - 0s 985us/step - loss: 5.5023 - mae: 5.5023\n",
      "Epoch 41/100\n",
      "13/13 [==============================] - 0s 954us/step - loss: 4.8545 - mae: 4.8545\n",
      "Epoch 42/100\n",
      "13/13 [==============================] - 0s 969us/step - loss: 4.7246 - mae: 4.7246\n",
      "Epoch 43/100\n",
      "13/13 [==============================] - 0s 1ms/step - loss: 4.8634 - mae: 4.8634\n",
      "Epoch 44/100\n",
      "13/13 [==============================] - 0s 966us/step - loss: 5.2472 - mae: 5.2472\n",
      "Epoch 45/100\n",
      "13/13 [==============================] - 0s 775us/step - loss: 6.5335 - mae: 6.5335\n",
      "Epoch 46/100\n",
      "13/13 [==============================] - 0s 759us/step - loss: 5.1299 - mae: 5.1299\n",
      "Epoch 47/100\n",
      "13/13 [==============================] - 0s 1ms/step - loss: 5.5688 - mae: 5.5688\n",
      "Epoch 48/100\n",
      "13/13 [==============================] - 0s 921us/step - loss: 5.1290 - mae: 5.1290\n",
      "Epoch 49/100\n",
      "13/13 [==============================] - 0s 846us/step - loss: 4.8893 - mae: 4.8893\n",
      "Epoch 50/100\n",
      "13/13 [==============================] - 0s 921us/step - loss: 4.6542 - mae: 4.6542\n",
      "Epoch 51/100\n",
      "13/13 [==============================] - 0s 842us/step - loss: 4.8671 - mae: 4.8671\n",
      "Epoch 52/100\n",
      "13/13 [==============================] - 0s 769us/step - loss: 5.7231 - mae: 5.7231\n",
      "Epoch 53/100\n",
      "13/13 [==============================] - 0s 844us/step - loss: 7.5829 - mae: 7.5829\n",
      "Epoch 54/100\n",
      "13/13 [==============================] - 0s 843us/step - loss: 6.2189 - mae: 6.2189\n",
      "Epoch 55/100\n",
      "13/13 [==============================] - 0s 992us/step - loss: 6.5227 - mae: 6.5227\n",
      "Epoch 56/100\n",
      "13/13 [==============================] - 0s 921us/step - loss: 6.3819 - mae: 6.3819\n",
      "Epoch 57/100\n",
      "13/13 [==============================] - 0s 921us/step - loss: 5.5013 - mae: 5.5013\n",
      "Epoch 58/100\n",
      "13/13 [==============================] - 0s 802us/step - loss: 4.8960 - mae: 4.8960\n",
      "Epoch 59/100\n",
      "13/13 [==============================] - 0s 769us/step - loss: 4.7484 - mae: 4.7484\n",
      "Epoch 60/100\n",
      "13/13 [==============================] - 0s 859us/step - loss: 4.5069 - mae: 4.5069\n",
      "Epoch 61/100\n",
      "13/13 [==============================] - 0s 986us/step - loss: 4.6465 - mae: 4.6465\n",
      "Epoch 62/100\n",
      "13/13 [==============================] - 0s 997us/step - loss: 4.5923 - mae: 4.5923\n",
      "Epoch 63/100\n",
      "13/13 [==============================] - 0s 922us/step - loss: 4.9446 - mae: 4.9446\n",
      "Epoch 64/100\n",
      "13/13 [==============================] - 0s 921us/step - loss: 4.9968 - mae: 4.9968\n",
      "Epoch 65/100\n",
      "13/13 [==============================] - 0s 971us/step - loss: 5.0292 - mae: 5.0292\n",
      "Epoch 66/100\n",
      "13/13 [==============================] - 0s 691us/step - loss: 5.2383 - mae: 5.2383\n",
      "Epoch 67/100\n",
      "13/13 [==============================] - 0s 723us/step - loss: 5.3968 - mae: 5.3968\n",
      "Epoch 68/100\n",
      "13/13 [==============================] - 0s 770us/step - loss: 5.3801 - mae: 5.3801\n",
      "Epoch 69/100\n",
      "13/13 [==============================] - 0s 1ms/step - loss: 6.5682 - mae: 6.5682\n",
      "Epoch 70/100\n",
      "13/13 [==============================] - 0s 1ms/step - loss: 5.0805 - mae: 5.0805\n",
      "Epoch 71/100\n",
      "13/13 [==============================] - 0s 997us/step - loss: 4.8099 - mae: 4.8099\n",
      "Epoch 72/100\n",
      "13/13 [==============================] - 0s 997us/step - loss: 5.2427 - mae: 5.2427\n",
      "Epoch 73/100\n",
      "13/13 [==============================] - 0s 1ms/step - loss: 5.5806 - mae: 5.5806\n",
      "Epoch 74/100\n",
      "13/13 [==============================] - 0s 1ms/step - loss: 4.4490 - mae: 4.4490\n",
      "Epoch 75/100\n",
      "13/13 [==============================] - 0s 991us/step - loss: 5.1311 - mae: 5.1311\n",
      "Epoch 76/100\n",
      "13/13 [==============================] - 0s 1ms/step - loss: 5.3944 - mae: 5.3944\n",
      "Epoch 77/100\n",
      "13/13 [==============================] - 0s 1ms/step - loss: 4.4952 - mae: 4.4952\n",
      "Epoch 78/100\n",
      "13/13 [==============================] - 0s 1ms/step - loss: 5.7336 - mae: 5.7336\n",
      "Epoch 79/100\n",
      "13/13 [==============================] - 0s 1ms/step - loss: 6.1974 - mae: 6.1974\n",
      "Epoch 80/100\n",
      "13/13 [==============================] - 0s 1ms/step - loss: 4.5208 - mae: 4.5208\n",
      "Epoch 81/100\n",
      "13/13 [==============================] - 0s 1ms/step - loss: 4.9192 - mae: 4.9192\n",
      "Epoch 82/100\n",
      "13/13 [==============================] - 0s 986us/step - loss: 4.6283 - mae: 4.6283\n",
      "Epoch 83/100\n",
      "13/13 [==============================] - 0s 844us/step - loss: 5.1689 - mae: 5.1689\n",
      "Epoch 84/100\n",
      "13/13 [==============================] - 0s 701us/step - loss: 5.5095 - mae: 5.5095\n",
      "Epoch 85/100\n",
      "13/13 [==============================] - 0s 777us/step - loss: 4.9709 - mae: 4.9709\n",
      "Epoch 86/100\n",
      "13/13 [==============================] - 0s 890us/step - loss: 5.4568 - mae: 5.4568\n",
      "Epoch 87/100\n",
      "13/13 [==============================] - 0s 844us/step - loss: 4.9825 - mae: 4.9825\n",
      "Epoch 88/100\n",
      "13/13 [==============================] - 0s 844us/step - loss: 5.0357 - mae: 5.0357\n",
      "Epoch 89/100\n",
      "13/13 [==============================] - 0s 642us/step - loss: 5.0784 - mae: 5.0784\n",
      "Epoch 90/100\n",
      "13/13 [==============================] - 0s 744us/step - loss: 5.0395 - mae: 5.0395\n",
      "Epoch 91/100\n",
      "13/13 [==============================] - 0s 844us/step - loss: 4.5041 - mae: 4.5041\n",
      "Epoch 92/100\n",
      "13/13 [==============================] - 0s 841us/step - loss: 4.3046 - mae: 4.3046\n",
      "Epoch 93/100\n",
      "13/13 [==============================] - 0s 840us/step - loss: 4.4538 - mae: 4.4538\n",
      "Epoch 94/100\n",
      "13/13 [==============================] - 0s 692us/step - loss: 4.4522 - mae: 4.4522\n",
      "Epoch 95/100\n",
      "13/13 [==============================] - 0s 842us/step - loss: 4.8568 - mae: 4.8568\n",
      "Epoch 96/100\n",
      "13/13 [==============================] - 0s 844us/step - loss: 4.6614 - mae: 4.6614\n",
      "Epoch 97/100\n",
      "13/13 [==============================] - 0s 844us/step - loss: 4.2132 - mae: 4.2132\n",
      "Epoch 98/100\n",
      "13/13 [==============================] - 0s 873us/step - loss: 4.6541 - mae: 4.6541\n",
      "Epoch 99/100\n",
      "13/13 [==============================] - 0s 959us/step - loss: 4.2050 - mae: 4.2050\n",
      "Epoch 100/100\n",
      "13/13 [==============================] - 0s 1ms/step - loss: 4.4823 - mae: 4.4823\n"
     ]
    }
   ],
   "source": [
    "# Build a model\n",
    "tf.random.set_seed(42)\n",
    "\n",
    "# 1. Create a model\n",
    "\n",
    "model_2 = tf.keras.Sequential([\n",
    "    tf.keras.layers.Dense(169, \n",
    "                          input_shape=(13,), \n",
    "                          activation=None),\n",
    "    tf.keras.layers.Dense(13, \n",
    "                          input_shape=(169,), \n",
    "                          activation=None),\n",
    "    tf.keras.layers.Dense(1, input_shape=(13,))\n",
    "], name='model_2')\n",
    "\n",
    "# 2. Compile the model\n",
    "\n",
    "model_2.compile(loss=tf.keras.losses.mae,\n",
    "               optimizer=tf.keras.optimizers.Adam(learning_rate=0.005),\n",
    "               metrics=['mae'])\n",
    "\n",
    "# 3. Fit the model\n",
    "\n",
    "history_m2 = model_2.fit(X_train, y_train, epochs=100)"
   ]
  },
  {
   "cell_type": "code",
   "execution_count": 39,
   "id": "fb4e6b9d-90b3-466e-a4ab-d6044b643e3c",
   "metadata": {},
   "outputs": [
    {
     "name": "stdout",
     "output_type": "stream",
     "text": [
      "4/4 [==============================] - 0s 756us/step - loss: 5.3048 - mae: 5.3048\n"
     ]
    },
    {
     "data": {
      "image/png": "[encoded data removed]",
      "text/plain": [
       "<Figure size 720x720 with 1 Axes>"
      ]
     },
     "metadata": {
      "needs_background": "light"
     },
     "output_type": "display_data"
    }
   ],
   "source": [
    "compare_preds(model_2, X_test, y_test)"
   ]
  },
  {
   "cell_type": "code",
   "execution_count": null,
   "id": "f2b6bf82-2d0b-4e6a-b629-77756db4314a",
   "metadata": {},
   "outputs": [],
   "source": []
  }
 ],
 "metadata": {
  "kernelspec": {
   "display_name": "Python [conda env:keras-gpu]",
   "language": "python",
   "name": "conda-env-keras-gpu-py"
  },
  "language_info": {
   "codemirror_mode": {
    "name": "ipython",
    "version": 3
   },
   "file_extension": ".py",
   "mimetype": "text/x-python",
   "name": "python",
   "nbconvert_exporter": "python",
   "pygments_lexer": "ipython3",
   "version": "3.7.12"
  }
 },
 "nbformat": 4,
 "nbformat_minor": 5
}
