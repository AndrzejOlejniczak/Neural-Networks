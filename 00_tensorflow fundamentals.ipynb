{
 "cells": [
  {
   "cell_type": "markdown",
   "id": "43520ffb-9563-4c60-a319-7eda5a662569",
   "metadata": {},
   "source": [
    "# Fundamentals of tensor using in TensorFlow\n",
    "\n",
    "Overview:\n",
    "1. Introduction to tensors\n",
    "2. Getting information from tensors\n",
    "3. Manipulating tensors\n",
    "4. Tensors and NumPy\n",
    "5. Using @tf.function\n",
    "6. Using GPUs (TPUs) with TensorFlow\n",
    "7. Exercises"
   ]
  },
  {
   "cell_type": "markdown",
   "id": "28d34171-3023-45b1-bd8c-ac17f7a62f87",
   "metadata": {},
   "source": [
    "## Introduction to tensors"
   ]
  },
  {
   "cell_type": "code",
   "execution_count": 1,
   "id": "8b84bd66-a3d2-40f6-8904-6c3c3c589db8",
   "metadata": {},
   "outputs": [],
   "source": [
    "# Import TensorFlow\n",
    "import tensorflow as tf"
   ]
  },
  {
   "cell_type": "code",
   "execution_count": 2,
   "id": "eb11a397-cdb2-4115-83fd-c5f5355866a3",
   "metadata": {},
   "outputs": [
    {
     "name": "stdout",
     "output_type": "stream",
     "text": [
      "2.3.0\n"
     ]
    }
   ],
   "source": [
    "print(tf.__version__)"
   ]
  },
  {
   "cell_type": "code",
   "execution_count": 3,
   "id": "f86fc3f0-91b9-4209-960b-51933863cf5c",
   "metadata": {},
   "outputs": [
    {
     "data": {
      "text/plain": [
       "<tf.Tensor: shape=(), dtype=int32, numpy=7>"
      ]
     },
     "execution_count": 3,
     "metadata": {},
     "output_type": "execute_result"
    }
   ],
   "source": [
    "# Create tensors with tf.constant()\n",
    "scalar = tf.constant(7)\n",
    "scalar"
   ]
  },
  {
   "cell_type": "code",
   "execution_count": 4,
   "id": "0afd7d60-c0de-4ff1-a1d3-9cc7c7a3ee6b",
   "metadata": {},
   "outputs": [
    {
     "data": {
      "text/plain": [
       "0"
      ]
     },
     "execution_count": 4,
     "metadata": {},
     "output_type": "execute_result"
    }
   ],
   "source": [
    "# Check the number of dimensions (ndim)\n",
    "scalar.ndim"
   ]
  },
  {
   "cell_type": "code",
   "execution_count": 5,
   "id": "88e665e8-f730-49a8-a30d-ab21d1a9526c",
   "metadata": {},
   "outputs": [
    {
     "data": {
      "text/plain": [
       "<tf.Tensor: shape=(2,), dtype=int32, numpy=array([10, 10])>"
      ]
     },
     "execution_count": 5,
     "metadata": {},
     "output_type": "execute_result"
    }
   ],
   "source": [
    "# Create a vector\n",
    "vector = tf.constant([10, 10])\n",
    "vector"
   ]
  },
  {
   "cell_type": "code",
   "execution_count": 6,
   "id": "bea61fdd-ed2e-46c5-b69b-dda96e3b9e61",
   "metadata": {},
   "outputs": [
    {
     "data": {
      "text/plain": [
       "1"
      ]
     },
     "execution_count": 6,
     "metadata": {},
     "output_type": "execute_result"
    }
   ],
   "source": [
    "vector.ndim"
   ]
  },
  {
   "cell_type": "code",
   "execution_count": 7,
   "id": "c76edc93-01aa-4187-8dd7-f12624552608",
   "metadata": {},
   "outputs": [
    {
     "data": {
      "text/plain": [
       "<tf.Tensor: shape=(2, 2), dtype=int32, numpy=\n",
       "array([[10,  7],\n",
       "       [ 7, 10]])>"
      ]
     },
     "execution_count": 7,
     "metadata": {},
     "output_type": "execute_result"
    }
   ],
   "source": [
    "# Create a matrix\n",
    "matrix = tf.constant([[10, 7],[7, 10]])\n",
    "matrix"
   ]
  },
  {
   "cell_type": "code",
   "execution_count": 8,
   "id": "8a9b8c41-3016-4ac4-8ba4-9920a2c3c0c7",
   "metadata": {},
   "outputs": [
    {
     "data": {
      "text/plain": [
       "2"
      ]
     },
     "execution_count": 8,
     "metadata": {},
     "output_type": "execute_result"
    }
   ],
   "source": [
    "matrix.ndim"
   ]
  },
  {
   "cell_type": "code",
   "execution_count": 9,
   "id": "b624c0ec-5d21-4a2c-b36a-4f0add932454",
   "metadata": {},
   "outputs": [
    {
     "data": {
      "text/plain": [
       "<tf.Tensor: shape=(3, 2), dtype=float16, numpy=\n",
       "array([[10.,  7.],\n",
       "       [ 3.,  2.],\n",
       "       [ 8.,  9.]], dtype=float16)>"
      ]
     },
     "execution_count": 9,
     "metadata": {},
     "output_type": "execute_result"
    }
   ],
   "source": [
    "# Create another matrix\n",
    "another_matrix = tf.constant([[10., 7.], \n",
    "                             [3., 2.],\n",
    "                             [8., 9.]], dtype=tf.float16)\n",
    "another_matrix"
   ]
  },
  {
   "cell_type": "code",
   "execution_count": 10,
   "id": "673e433e-e4a5-4e6c-a47e-57466d39e2f6",
   "metadata": {},
   "outputs": [
    {
     "data": {
      "text/plain": [
       "2"
      ]
     },
     "execution_count": 10,
     "metadata": {},
     "output_type": "execute_result"
    }
   ],
   "source": [
    "another_matrix.ndim"
   ]
  },
  {
   "cell_type": "code",
   "execution_count": 11,
   "id": "8e4d1549-15e0-467c-877e-bc367035e222",
   "metadata": {},
   "outputs": [
    {
     "data": {
      "text/plain": [
       "<tf.Tensor: shape=(3, 2, 3), dtype=int32, numpy=\n",
       "array([[[ 1,  2,  4],\n",
       "        [ 4,  5,  6]],\n",
       "\n",
       "       [[ 7,  8,  9],\n",
       "        [10, 11, 12]],\n",
       "\n",
       "       [[13, 14, 15],\n",
       "        [16, 17, 18]]])>"
      ]
     },
     "execution_count": 11,
     "metadata": {},
     "output_type": "execute_result"
    }
   ],
   "source": [
    "# Let's create a tensor\n",
    "tensor = tf.constant([[[1, 2, 4,],\n",
    "                       [4, 5, 6,]],\n",
    "                      [[7, 8, 9,],\n",
    "                       [10, 11, 12,]],\n",
    "                      [[13, 14, 15,],\n",
    "                       [16, 17, 18,]]])\n",
    "tensor"
   ]
  },
  {
   "cell_type": "code",
   "execution_count": 12,
   "id": "55273381-3d72-43bc-8a71-dfffc16ca7af",
   "metadata": {},
   "outputs": [
    {
     "data": {
      "text/plain": [
       "3"
      ]
     },
     "execution_count": 12,
     "metadata": {},
     "output_type": "execute_result"
    }
   ],
   "source": [
    "tensor.ndim"
   ]
  },
  {
   "cell_type": "markdown",
   "id": "75fb6d28-b4ce-40d5-9816-fa845b167a6e",
   "metadata": {},
   "source": [
    "### Creating tensors with `tf.variable()`"
   ]
  },
  {
   "cell_type": "code",
   "execution_count": 13,
   "id": "11de3498-b64d-40f5-bd66-20f8e38ed8ad",
   "metadata": {},
   "outputs": [
    {
     "data": {
      "text/plain": [
       "tensorflow.python.ops.variables.Variable"
      ]
     },
     "execution_count": 13,
     "metadata": {},
     "output_type": "execute_result"
    }
   ],
   "source": [
    "tf.Variable"
   ]
  },
  {
   "cell_type": "code",
   "execution_count": 14,
   "id": "80f484d5-011f-4611-ba23-c9f1aea7f5dd",
   "metadata": {},
   "outputs": [
    {
     "data": {
      "text/plain": [
       "(<tf.Variable 'Variable:0' shape=(2,) dtype=int32, numpy=array([10,  7])>,\n",
       " <tf.Tensor: shape=(2,), dtype=int32, numpy=array([10,  7])>)"
      ]
     },
     "execution_count": 14,
     "metadata": {},
     "output_type": "execute_result"
    }
   ],
   "source": [
    "# Create a tensor like above, but wit tf.Variable()\n",
    "changeable_tensor = tf.Variable([10, 7])\n",
    "unchaneable_tensor = tf.constant([10, 7])\n",
    "\n",
    "changeable_tensor, unchaneable_tensor"
   ]
  },
  {
   "cell_type": "code",
   "execution_count": 15,
   "id": "704fced6-acdb-4925-afbc-fb256198e106",
   "metadata": {},
   "outputs": [
    {
     "data": {
      "text/plain": [
       "<tf.Variable 'Variable:0' shape=(2,) dtype=int32, numpy=array([7, 7])>"
      ]
     },
     "execution_count": 15,
     "metadata": {},
     "output_type": "execute_result"
    }
   ],
   "source": [
    "# Using .assign() method\n",
    "changeable_tensor[0].assign(7)\n",
    "changeable_tensor"
   ]
  },
  {
   "cell_type": "code",
   "execution_count": 16,
   "id": "cc2de6db-46a7-4bf6-a4a8-070f28c3d708",
   "metadata": {},
   "outputs": [
    {
     "data": {
      "text/plain": [
       "<tf.Tensor: shape=(2,), dtype=int32, numpy=array([10,  7])>"
      ]
     },
     "execution_count": 16,
     "metadata": {},
     "output_type": "execute_result"
    }
   ],
   "source": [
    "unchaneable_tensor"
   ]
  },
  {
   "cell_type": "markdown",
   "id": "6f668c95-b2f3-44df-868b-0775eaea3b9e",
   "metadata": {},
   "source": [
    "### Creating random tensors\n",
    "Random tensors are tensors of some arbitrary size that contain random numbers"
   ]
  },
  {
   "cell_type": "code",
   "execution_count": 17,
   "id": "e88e9c8c-0981-4973-9713-75f2c3c63f00",
   "metadata": {},
   "outputs": [
    {
     "data": {
      "text/plain": [
       "<tf.Tensor: shape=(3, 2), dtype=float32, numpy=\n",
       "array([[-0.7535805 , -0.57166284],\n",
       "       [ 0.1480774 , -0.23362993],\n",
       "       [-0.3522796 ,  0.40621263]], dtype=float32)>"
      ]
     },
     "execution_count": 17,
     "metadata": {},
     "output_type": "execute_result"
    }
   ],
   "source": [
    "# Create two random tensors\n",
    "random_1 = tf.random.Generator.from_seed(44)\n",
    "random_1 = random_1.normal(shape=(3, 2))\n",
    "\n",
    "random_1"
   ]
  },
  {
   "cell_type": "code",
   "execution_count": 18,
   "id": "63e33b8f-2831-42a2-a0ae-3ebec07549d6",
   "metadata": {},
   "outputs": [],
   "source": [
    "import numpy as np\n",
    "import pandas as pd"
   ]
  },
  {
   "cell_type": "code",
   "execution_count": 19,
   "id": "86376df4-0c5b-4bcf-9491-8302fb763b90",
   "metadata": {},
   "outputs": [],
   "source": [
    "random_d_tensor = tf.random.Generator.from_seed(44).normal(shape=(777,))"
   ]
  },
  {
   "cell_type": "code",
   "execution_count": 20,
   "id": "b7fb924f-9249-4d47-acad-d836905aa912",
   "metadata": {},
   "outputs": [],
   "source": [
    "df = pd.DataFrame(random_d_tensor.numpy(), np.arange(0,len(random_d_tensor.numpy())))"
   ]
  },
  {
   "cell_type": "code",
   "execution_count": 21,
   "id": "3899589d-4095-4c1b-9b12-c48d2f6b763d",
   "metadata": {},
   "outputs": [
    {
     "data": {
      "text/plain": [
       "array([[<AxesSubplot:title={'center':'0'}>]], dtype=object)"
      ]
     },
     "execution_count": 21,
     "metadata": {},
     "output_type": "execute_result"
    },
    {
     "data": {
      "image/png": "[encoded data removed]",
      "text/plain": [
       "<Figure size 432x288 with 1 Axes>"
      ]
     },
     "metadata": {
      "needs_background": "light"
     },
     "output_type": "display_data"
    }
   ],
   "source": [
    "df.hist(bins=111)"
   ]
  },
  {
   "cell_type": "markdown",
   "id": "87233c7c-4a11-4c90-8a45-27dd6d25465a",
   "metadata": {},
   "source": [
    "### Shuffle the order of elements in a tensor"
   ]
  },
  {
   "cell_type": "code",
   "execution_count": 22,
   "id": "ac9d6c65-b051-487c-89c3-e929a9f78b1a",
   "metadata": {},
   "outputs": [
    {
     "data": {
      "text/plain": [
       "<tf.Tensor: shape=(3, 2), dtype=int32, numpy=\n",
       "array([[10,  7],\n",
       "       [ 3,  4],\n",
       "       [ 2,  5]])>"
      ]
     },
     "execution_count": 22,
     "metadata": {},
     "output_type": "execute_result"
    }
   ],
   "source": [
    "not_shuffled = tf.constant([[10, 7],\n",
    "                            [3, 4],\n",
    "                            [2, 5]])\n",
    "not_shuffled"
   ]
  },
  {
   "cell_type": "code",
   "execution_count": 23,
   "id": "db1f2063-0b7e-4494-9763-6cf44bbc51f5",
   "metadata": {},
   "outputs": [
    {
     "data": {
      "text/plain": [
       "<tf.Tensor: shape=(3, 2), dtype=int32, numpy=\n",
       "array([[10,  7],\n",
       "       [ 2,  5],\n",
       "       [ 3,  4]])>"
      ]
     },
     "execution_count": 23,
     "metadata": {},
     "output_type": "execute_result"
    }
   ],
   "source": [
    "# Shuffle the tensor\n",
    "tf.random.shuffle(not_shuffled, seed=1)"
   ]
  },
  {
   "cell_type": "code",
   "execution_count": 24,
   "id": "aca3ee5d-14f5-41bd-9c78-f60d0afdd2d3",
   "metadata": {},
   "outputs": [
    {
     "data": {
      "text/plain": [
       "<tf.Tensor: shape=(3, 2), dtype=int32, numpy=\n",
       "array([[ 2,  5],\n",
       "       [ 3,  4],\n",
       "       [10,  7]])>"
      ]
     },
     "execution_count": 24,
     "metadata": {},
     "output_type": "execute_result"
    }
   ],
   "source": [
    "tf.random.set_seed(1)\n",
    "tf.random.shuffle(not_shuffled, seed=3)"
   ]
  },
  {
   "cell_type": "markdown",
   "id": "dfdbf8ce-f8ec-4c32-ac19-cab6ec7333a7",
   "metadata": {},
   "source": [
    "### Other ways to make tensors"
   ]
  },
  {
   "cell_type": "code",
   "execution_count": 25,
   "id": "dc91e714-e96f-4c4d-946d-6d197ac64cca",
   "metadata": {},
   "outputs": [
    {
     "data": {
      "text/plain": [
       "<tf.Tensor: shape=(3, 4), dtype=float32, numpy=\n",
       "array([[1., 1., 1., 1.],\n",
       "       [1., 1., 1., 1.],\n",
       "       [1., 1., 1., 1.]], dtype=float32)>"
      ]
     },
     "execution_count": 25,
     "metadata": {},
     "output_type": "execute_result"
    }
   ],
   "source": [
    "tf.ones(shape=(3, 4))"
   ]
  },
  {
   "cell_type": "code",
   "execution_count": 26,
   "id": "c19dbccd-5d2c-42d6-ac3c-5b3e420f2596",
   "metadata": {},
   "outputs": [
    {
     "data": {
      "text/plain": [
       "<tf.Tensor: shape=(10, 7), dtype=float32, numpy=\n",
       "array([[0., 0., 0., 0., 0., 0., 0.],\n",
       "       [0., 0., 0., 0., 0., 0., 0.],\n",
       "       [0., 0., 0., 0., 0., 0., 0.],\n",
       "       [0., 0., 0., 0., 0., 0., 0.],\n",
       "       [0., 0., 0., 0., 0., 0., 0.],\n",
       "       [0., 0., 0., 0., 0., 0., 0.],\n",
       "       [0., 0., 0., 0., 0., 0., 0.],\n",
       "       [0., 0., 0., 0., 0., 0., 0.],\n",
       "       [0., 0., 0., 0., 0., 0., 0.],\n",
       "       [0., 0., 0., 0., 0., 0., 0.]], dtype=float32)>"
      ]
     },
     "execution_count": 26,
     "metadata": {},
     "output_type": "execute_result"
    }
   ],
   "source": [
    "tf.zeros([10, 7])"
   ]
  },
  {
   "cell_type": "markdown",
   "id": "b20cc60a-d43f-407b-8968-2b34a4a7c9cb",
   "metadata": {},
   "source": [
    "### Turn NumPy arrays into tensors\n",
    "The main dofference between NumPy arrays and TensorFlow tensors is that tensors can be run on a GPU."
   ]
  },
  {
   "cell_type": "code",
   "execution_count": 27,
   "id": "bc54f1b4-59d1-48fc-a375-f2c26891e130",
   "metadata": {},
   "outputs": [
    {
     "data": {
      "text/plain": [
       "array([ 1,  2,  3,  4,  5,  6,  7,  8,  9, 10, 11, 12, 13, 14, 15, 16, 17,\n",
       "       18, 19, 20, 21, 22, 23, 24])"
      ]
     },
     "execution_count": 27,
     "metadata": {},
     "output_type": "execute_result"
    }
   ],
   "source": [
    "numpy_A = np.arange(1, 25, dtype=np.int32)\n",
    "numpy_A"
   ]
  },
  {
   "cell_type": "code",
   "execution_count": 28,
   "id": "2f592a19-9e91-418c-b80c-ee039528a521",
   "metadata": {},
   "outputs": [
    {
     "data": {
      "text/plain": [
       "<tf.Tensor: shape=(24,), dtype=int32, numpy=\n",
       "array([ 1,  2,  3,  4,  5,  6,  7,  8,  9, 10, 11, 12, 13, 14, 15, 16, 17,\n",
       "       18, 19, 20, 21, 22, 23, 24])>"
      ]
     },
     "execution_count": 28,
     "metadata": {},
     "output_type": "execute_result"
    }
   ],
   "source": [
    "A = tf.constant(numpy_A)\n",
    "A"
   ]
  },
  {
   "cell_type": "code",
   "execution_count": 29,
   "id": "c04c0efe-a521-4673-be8e-0850973216ca",
   "metadata": {},
   "outputs": [
    {
     "data": {
      "text/plain": [
       "<tf.Tensor: shape=(2, 3, 4), dtype=int32, numpy=\n",
       "array([[[ 1,  2,  3,  4],\n",
       "        [ 5,  6,  7,  8],\n",
       "        [ 9, 10, 11, 12]],\n",
       "\n",
       "       [[13, 14, 15, 16],\n",
       "        [17, 18, 19, 20],\n",
       "        [21, 22, 23, 24]]])>"
      ]
     },
     "execution_count": 29,
     "metadata": {},
     "output_type": "execute_result"
    }
   ],
   "source": [
    "A_1 = tf.constant(numpy_A, shape=(2, 3, 4))\n",
    "A_1"
   ]
  },
  {
   "cell_type": "code",
   "execution_count": 30,
   "id": "84d708b5-fe33-4298-8f30-074dfdb4a79f",
   "metadata": {},
   "outputs": [
    {
     "data": {
      "text/plain": [
       "<tf.Tensor: shape=(2, 3, 2, 2), dtype=int32, numpy=\n",
       "array([[[[ 1,  2],\n",
       "         [ 3,  4]],\n",
       "\n",
       "        [[ 5,  6],\n",
       "         [ 7,  8]],\n",
       "\n",
       "        [[ 9, 10],\n",
       "         [11, 12]]],\n",
       "\n",
       "\n",
       "       [[[13, 14],\n",
       "         [15, 16]],\n",
       "\n",
       "        [[17, 18],\n",
       "         [19, 20]],\n",
       "\n",
       "        [[21, 22],\n",
       "         [23, 24]]]])>"
      ]
     },
     "execution_count": 30,
     "metadata": {},
     "output_type": "execute_result"
    }
   ],
   "source": [
    "A_2 = tf.constant(numpy_A, shape = (2, 3, 2, 2))\n",
    "A_2"
   ]
  },
  {
   "cell_type": "markdown",
   "id": "400e3db1-693f-4f47-b8d0-9d8af812a2f1",
   "metadata": {},
   "source": [
    "## Getting information from tensors\n",
    "\n",
    "When dealing with tensor you probabluy want to be aware of the following attributes:\n",
    "* Shape\n",
    "* Rank\n",
    "* Axis or dimension\n",
    "* Size"
   ]
  },
  {
   "cell_type": "code",
   "execution_count": 31,
   "id": "54c3e28a-5e46-403b-87c9-987f1db632ff",
   "metadata": {},
   "outputs": [
    {
     "data": {
      "text/plain": [
       "TensorShape([2, 3, 2, 2])"
      ]
     },
     "execution_count": 31,
     "metadata": {},
     "output_type": "execute_result"
    }
   ],
   "source": [
    "A_2.shape"
   ]
  },
  {
   "cell_type": "code",
   "execution_count": 32,
   "id": "58995d4b-a14d-4c32-8f69-018991832a0c",
   "metadata": {},
   "outputs": [
    {
     "data": {
      "text/plain": [
       "4"
      ]
     },
     "execution_count": 32,
     "metadata": {},
     "output_type": "execute_result"
    }
   ],
   "source": [
    "A_2.ndim"
   ]
  },
  {
   "cell_type": "code",
   "execution_count": 33,
   "id": "20c4c017-98e9-4c9c-84a0-19792d24411f",
   "metadata": {},
   "outputs": [
    {
     "data": {
      "text/plain": [
       "<tf.Tensor: shape=(), dtype=int32, numpy=20>"
      ]
     },
     "execution_count": 33,
     "metadata": {},
     "output_type": "execute_result"
    }
   ],
   "source": [
    "A_2[1,1,1,1]"
   ]
  },
  {
   "cell_type": "code",
   "execution_count": 34,
   "id": "dd0c8bbf-265b-466b-b9f3-24a2a538cd9f",
   "metadata": {},
   "outputs": [
    {
     "data": {
      "text/plain": [
       "<tf.Tensor: shape=(), dtype=int32, numpy=24>"
      ]
     },
     "execution_count": 34,
     "metadata": {},
     "output_type": "execute_result"
    }
   ],
   "source": [
    "tf.size(A_2)"
   ]
  },
  {
   "cell_type": "code",
   "execution_count": 35,
   "id": "8a9618c6-7f9e-4f26-900d-cd2465ee7a33",
   "metadata": {},
   "outputs": [
    {
     "data": {
      "text/plain": [
       "tf.int32"
      ]
     },
     "execution_count": 35,
     "metadata": {},
     "output_type": "execute_result"
    }
   ],
   "source": [
    "A_2.dtype"
   ]
  },
  {
   "cell_type": "markdown",
   "id": "8a61ad31-828f-4e51-844f-06d8a8383d27",
   "metadata": {},
   "source": [
    "### Indexing tensors"
   ]
  },
  {
   "cell_type": "code",
   "execution_count": 36,
   "id": "8d868f07-ef24-4d33-be2b-be6f237af649",
   "metadata": {},
   "outputs": [
    {
     "data": {
      "text/plain": [
       "<tf.Tensor: shape=(2, 1, 2, 1), dtype=int32, numpy=\n",
       "array([[[[ 1],\n",
       "         [ 3]]],\n",
       "\n",
       "\n",
       "       [[[13],\n",
       "         [15]]]])>"
      ]
     },
     "execution_count": 36,
     "metadata": {},
     "output_type": "execute_result"
    }
   ],
   "source": [
    "A_2[:2,:1,:2,:1]"
   ]
  },
  {
   "cell_type": "code",
   "execution_count": 37,
   "id": "677ed432-9a4d-47b8-a5ba-8b9b6ccc0cc6",
   "metadata": {},
   "outputs": [
    {
     "data": {
      "text/plain": [
       "<tf.Tensor: shape=(2, 2), dtype=int32, numpy=\n",
       "array([[10,  7],\n",
       "       [ 3,  4]])>"
      ]
     },
     "execution_count": 37,
     "metadata": {},
     "output_type": "execute_result"
    }
   ],
   "source": [
    "rank_2_tensor = tf.constant([[10, 7],\n",
    "                             [3, 4]])\n",
    "rank_2_tensor"
   ]
  },
  {
   "cell_type": "code",
   "execution_count": 38,
   "id": "ae54560a-a43d-444b-93ef-e1a934eb1c5f",
   "metadata": {},
   "outputs": [
    {
     "data": {
      "text/plain": [
       "<tf.Tensor: shape=(2,), dtype=int32, numpy=array([7, 4])>"
      ]
     },
     "execution_count": 38,
     "metadata": {},
     "output_type": "execute_result"
    }
   ],
   "source": [
    "# Get the last item of each  row of our tensor\n",
    "rank_2_tensor[:, -1]"
   ]
  },
  {
   "cell_type": "code",
   "execution_count": 39,
   "id": "165aac41-8e48-4ff7-9123-e7712ba5d1e7",
   "metadata": {},
   "outputs": [
    {
     "data": {
      "text/plain": [
       "<tf.Tensor: shape=(2, 2, 1), dtype=int32, numpy=\n",
       "array([[[10],\n",
       "        [ 7]],\n",
       "\n",
       "       [[ 3],\n",
       "        [ 4]]])>"
      ]
     },
     "execution_count": 39,
     "metadata": {},
     "output_type": "execute_result"
    }
   ],
   "source": [
    "# Add in extra dimension to our rank 2 tensor\n",
    "rank_3_tensor = rank_2_tensor[..., tf.newaxis]\n",
    "rank_3_tensor"
   ]
  },
  {
   "cell_type": "code",
   "execution_count": 40,
   "id": "6827c514-41ad-483f-b114-d1bfdd55b735",
   "metadata": {},
   "outputs": [
    {
     "data": {
      "text/plain": [
       "<tf.Tensor: shape=(2, 2, 1), dtype=int32, numpy=\n",
       "array([[[10],\n",
       "        [ 7]],\n",
       "\n",
       "       [[ 3],\n",
       "        [ 4]]])>"
      ]
     },
     "execution_count": 40,
     "metadata": {},
     "output_type": "execute_result"
    }
   ],
   "source": [
    "tf.expand_dims(rank_2_tensor, axis=-1)"
   ]
  },
  {
   "cell_type": "code",
   "execution_count": 41,
   "id": "6e7dbb26-2de3-40eb-a53c-cb1860e70fb9",
   "metadata": {},
   "outputs": [
    {
     "data": {
      "text/plain": [
       "<tf.Tensor: shape=(1, 2, 2), dtype=int32, numpy=\n",
       "array([[[10,  7],\n",
       "        [ 3,  4]]])>"
      ]
     },
     "execution_count": 41,
     "metadata": {},
     "output_type": "execute_result"
    }
   ],
   "source": [
    "tf.expand_dims(rank_2_tensor, axis=0)"
   ]
  },
  {
   "cell_type": "code",
   "execution_count": 42,
   "id": "30f08f83-d618-463a-b9d0-93acdf61ce3a",
   "metadata": {},
   "outputs": [
    {
     "data": {
      "text/plain": [
       "<tf.Tensor: shape=(2, 1, 2), dtype=int32, numpy=\n",
       "array([[[10,  7]],\n",
       "\n",
       "       [[ 3,  4]]])>"
      ]
     },
     "execution_count": 42,
     "metadata": {},
     "output_type": "execute_result"
    }
   ],
   "source": [
    "tf.expand_dims(rank_2_tensor, axis=1)"
   ]
  },
  {
   "cell_type": "markdown",
   "id": "c8ba54b8-a72c-4dc9-bba2-b5fff5207378",
   "metadata": {},
   "source": [
    "## Manipulating tensors (tensor operations)\n",
    "\n",
    "**Basic operations**"
   ]
  },
  {
   "cell_type": "code",
   "execution_count": 43,
   "id": "5baaf454-e8a8-4cb6-8fbf-32109016a4b5",
   "metadata": {},
   "outputs": [],
   "source": [
    "# You cand add values to a tensor using the addition operator"
   ]
  },
  {
   "cell_type": "code",
   "execution_count": 44,
   "id": "a385fc77-f0c0-414a-8f73-749561318723",
   "metadata": {},
   "outputs": [],
   "source": [
    "tensor = tf.constant([[10,7], [3, 4]])"
   ]
  },
  {
   "cell_type": "code",
   "execution_count": 45,
   "id": "5c718ea1-7c6e-428c-bce2-16e0fd741747",
   "metadata": {
    "tags": []
   },
   "outputs": [
    {
     "data": {
      "text/plain": [
       "<tf.Tensor: shape=(2, 2), dtype=int32, numpy=\n",
       "array([[20, 17],\n",
       "       [13, 14]])>"
      ]
     },
     "execution_count": 45,
     "metadata": {},
     "output_type": "execute_result"
    }
   ],
   "source": [
    "tensor + 10"
   ]
  },
  {
   "cell_type": "code",
   "execution_count": 46,
   "id": "7aa33908-e132-4f47-88c8-f9947a586c4f",
   "metadata": {},
   "outputs": [
    {
     "data": {
      "text/plain": [
       "<tf.Tensor: shape=(2, 2), dtype=int32, numpy=\n",
       "array([[100,  70],\n",
       "       [ 30,  40]])>"
      ]
     },
     "execution_count": 46,
     "metadata": {},
     "output_type": "execute_result"
    }
   ],
   "source": [
    "tensor * 10"
   ]
  },
  {
   "cell_type": "code",
   "execution_count": 47,
   "id": "721af143-ae49-4090-a0ca-1d76c16e37c2",
   "metadata": {},
   "outputs": [
    {
     "data": {
      "text/plain": [
       "<tf.Tensor: shape=(2, 2), dtype=int32, numpy=\n",
       "array([[7, 4],\n",
       "       [0, 1]])>"
      ]
     },
     "execution_count": 47,
     "metadata": {},
     "output_type": "execute_result"
    }
   ],
   "source": [
    "tensor - 3"
   ]
  },
  {
   "cell_type": "code",
   "execution_count": 48,
   "id": "51036e37-2679-4121-8be4-079bd14ae81c",
   "metadata": {},
   "outputs": [
    {
     "data": {
      "text/plain": [
       "<tf.Tensor: shape=(2, 2), dtype=float64, numpy=\n",
       "array([[5. , 3.5],\n",
       "       [1.5, 2. ]])>"
      ]
     },
     "execution_count": 48,
     "metadata": {},
     "output_type": "execute_result"
    }
   ],
   "source": [
    "tensor / 2"
   ]
  },
  {
   "cell_type": "code",
   "execution_count": 49,
   "id": "e18cb9e7-29b7-4533-a0fe-d4871b2af6f6",
   "metadata": {},
   "outputs": [
    {
     "data": {
      "text/plain": [
       "<tf.Tensor: shape=(2, 2), dtype=int32, numpy=\n",
       "array([[440, 308],\n",
       "       [132, 176]])>"
      ]
     },
     "execution_count": 49,
     "metadata": {},
     "output_type": "execute_result"
    }
   ],
   "source": [
    "# We can use tensorflow built-in functions\n",
    "tf.multiply(tensor, 44)"
   ]
  },
  {
   "cell_type": "markdown",
   "id": "02e98c3f-6010-4ced-a967-db1c7d297840",
   "metadata": {},
   "source": [
    "#### Matrix multiplication\n",
    "In machine learning matrix multiplication i one of most common tensor operations."
   ]
  },
  {
   "cell_type": "code",
   "execution_count": 50,
   "id": "07a5ee6a-4673-494a-b0ad-d58856879395",
   "metadata": {},
   "outputs": [
    {
     "data": {
      "text/plain": [
       "<tf.Tensor: shape=(2, 2), dtype=int32, numpy=\n",
       "array([[121,  98],\n",
       "       [ 42,  37]])>"
      ]
     },
     "execution_count": 50,
     "metadata": {},
     "output_type": "execute_result"
    }
   ],
   "source": [
    "tf.matmul(tensor, tensor)"
   ]
  },
  {
   "cell_type": "code",
   "execution_count": 51,
   "id": "fbff16bc-1736-406d-b7fc-1200e58be296",
   "metadata": {},
   "outputs": [],
   "source": [
    "# Create a (3, 2) tensor\n",
    "X = tf.constant([[1, 2],\n",
    "                 [3, 4],\n",
    "                 [5, 6]])\n",
    "Y = tf.constant([[7,8],\n",
    "                [9, 10],\n",
    "                [10, 11]])"
   ]
  },
  {
   "cell_type": "code",
   "execution_count": 52,
   "id": "b3692ef2-b4ab-4052-b27b-e23958e60964",
   "metadata": {},
   "outputs": [
    {
     "data": {
      "text/plain": [
       "<tf.Tensor: shape=(3, 3), dtype=int32, numpy=\n",
       "array([[ 23,  29,  32],\n",
       "       [ 53,  67,  74],\n",
       "       [ 83, 105, 116]])>"
      ]
     },
     "execution_count": 52,
     "metadata": {},
     "output_type": "execute_result"
    }
   ],
   "source": [
    "X @ tf.transpose(Y)"
   ]
  },
  {
   "cell_type": "code",
   "execution_count": 53,
   "id": "2c3b878b-ac26-43dd-b1f6-d21be6ec6ffe",
   "metadata": {},
   "outputs": [
    {
     "data": {
      "text/plain": [
       "<tf.Tensor: shape=(2, 2), dtype=int32, numpy=\n",
       "array([[ 84,  93],\n",
       "       [110, 122]])>"
      ]
     },
     "execution_count": 53,
     "metadata": {},
     "output_type": "execute_result"
    }
   ],
   "source": [
    "# ! The inner dimensions must match\n",
    "# ! The output matrix is of the sape of outer dimensions\n",
    "\n",
    "tf.matmul(tf.transpose(X), Y)"
   ]
  },
  {
   "cell_type": "code",
   "execution_count": 54,
   "id": "7e25de23-ed53-4ea1-a91c-b202aec068d8",
   "metadata": {},
   "outputs": [
    {
     "data": {
      "text/plain": [
       "<tf.Tensor: shape=(2, 3), dtype=int32, numpy=\n",
       "array([[1, 3, 5],\n",
       "       [2, 4, 6]])>"
      ]
     },
     "execution_count": 54,
     "metadata": {},
     "output_type": "execute_result"
    }
   ],
   "source": [
    "tf.transpose(X)"
   ]
  },
  {
   "cell_type": "code",
   "execution_count": 55,
   "id": "645398a2-f27f-4899-a3ff-0deccb9939bf",
   "metadata": {},
   "outputs": [
    {
     "data": {
      "text/plain": [
       "<tf.Tensor: shape=(2, 3), dtype=int32, numpy=\n",
       "array([[1, 2, 3],\n",
       "       [4, 5, 6]])>"
      ]
     },
     "execution_count": 55,
     "metadata": {},
     "output_type": "execute_result"
    }
   ],
   "source": [
    "tf.reshape(X, shape=(2, 3))"
   ]
  },
  {
   "cell_type": "code",
   "execution_count": 56,
   "id": "5e08608b-533f-4aea-aaa8-1825a1608233",
   "metadata": {},
   "outputs": [
    {
     "data": {
      "text/plain": [
       "<tf.Tensor: shape=(1, 6), dtype=int32, numpy=array([[1, 2, 3, 4, 5, 6]])>"
      ]
     },
     "execution_count": 56,
     "metadata": {},
     "output_type": "execute_result"
    }
   ],
   "source": [
    "tf.reshape(X, shape=(1,6))"
   ]
  },
  {
   "cell_type": "code",
   "execution_count": 57,
   "id": "d5280503-12e6-4b8e-9da2-f56954847980",
   "metadata": {},
   "outputs": [
    {
     "data": {
      "text/plain": [
       "array([1, 2, 3, 4, 5, 6])"
      ]
     },
     "execution_count": 57,
     "metadata": {},
     "output_type": "execute_result"
    }
   ],
   "source": [
    "np.ravel(X)"
   ]
  },
  {
   "cell_type": "markdown",
   "id": "be1edf21-51e5-4f5f-ad22-bedfad542691",
   "metadata": {},
   "source": [
    "** The dot product **\n",
    "Matrix multiplication is also referred as the dot product\n",
    "You can perfrom. m. m. using:\n",
    "* `tf.matmul()`\n",
    "* `tf.tensordot()`\n"
   ]
  },
  {
   "cell_type": "code",
   "execution_count": 58,
   "id": "c4b61bab-93a9-423c-a4f6-57736bdc02d6",
   "metadata": {},
   "outputs": [
    {
     "data": {
      "text/plain": [
       "<tf.Tensor: shape=(2, 2), dtype=int32, numpy=\n",
       "array([[ 84,  93],\n",
       "       [110, 122]])>"
      ]
     },
     "execution_count": 58,
     "metadata": {},
     "output_type": "execute_result"
    }
   ],
   "source": [
    "tf.tensordot(tf.transpose(X), Y, axes=1)"
   ]
  },
  {
   "cell_type": "code",
   "execution_count": 59,
   "id": "4d0f8b90-11a6-49c9-8e75-355ee98dca42",
   "metadata": {},
   "outputs": [
    {
     "data": {
      "text/plain": [
       "<tf.Tensor: shape=(2, 3, 3, 2), dtype=int32, numpy=\n",
       "array([[[[ 7,  8],\n",
       "         [ 9, 10],\n",
       "         [10, 11]],\n",
       "\n",
       "        [[21, 24],\n",
       "         [27, 30],\n",
       "         [30, 33]],\n",
       "\n",
       "        [[35, 40],\n",
       "         [45, 50],\n",
       "         [50, 55]]],\n",
       "\n",
       "\n",
       "       [[[14, 16],\n",
       "         [18, 20],\n",
       "         [20, 22]],\n",
       "\n",
       "        [[28, 32],\n",
       "         [36, 40],\n",
       "         [40, 44]],\n",
       "\n",
       "        [[42, 48],\n",
       "         [54, 60],\n",
       "         [60, 66]]]])>"
      ]
     },
     "execution_count": 59,
     "metadata": {},
     "output_type": "execute_result"
    }
   ],
   "source": [
    "tf.tensordot(tf.transpose(X), Y, axes=0)"
   ]
  },
  {
   "cell_type": "code",
   "execution_count": 60,
   "id": "3501002c-bd2f-42b7-9fce-15bf5485674d",
   "metadata": {},
   "outputs": [
    {
     "data": {
      "text/plain": [
       "(<tf.Tensor: shape=(3, 2), dtype=int32, numpy=\n",
       " array([[1, 2],\n",
       "        [3, 4],\n",
       "        [5, 6]])>,\n",
       " <tf.Tensor: shape=(3, 2), dtype=int32, numpy=\n",
       " array([[ 7,  8],\n",
       "        [ 9, 10],\n",
       "        [10, 11]])>)"
      ]
     },
     "execution_count": 60,
     "metadata": {},
     "output_type": "execute_result"
    }
   ],
   "source": [
    "X, Y"
   ]
  },
  {
   "cell_type": "markdown",
   "id": "cdf70c15-d7db-449d-ac2a-b226322bc253",
   "metadata": {},
   "source": [
    "#### Changing the datatype of a tensor"
   ]
  },
  {
   "cell_type": "code",
   "execution_count": 61,
   "id": "2e0dd686-26f1-4e7c-9407-f763902b5ff5",
   "metadata": {},
   "outputs": [
    {
     "data": {
      "text/plain": [
       "tf.float32"
      ]
     },
     "execution_count": 61,
     "metadata": {},
     "output_type": "execute_result"
    }
   ],
   "source": [
    "B = tf.constant([1.7, 7.4])\n",
    "B.dtype"
   ]
  },
  {
   "cell_type": "code",
   "execution_count": 62,
   "id": "54acab78-54e8-4170-9bde-abb9c7406a13",
   "metadata": {},
   "outputs": [
    {
     "data": {
      "text/plain": [
       "tf.int32"
      ]
     },
     "execution_count": 62,
     "metadata": {},
     "output_type": "execute_result"
    }
   ],
   "source": [
    "C = tf.constant([7, 10])\n",
    "C.dtype"
   ]
  },
  {
   "cell_type": "code",
   "execution_count": 63,
   "id": "06598ec2-8166-49b2-bcea-475e27a9e9e0",
   "metadata": {},
   "outputs": [
    {
     "data": {
      "text/plain": [
       "<tf.Tensor: shape=(2,), dtype=float16, numpy=array([1.7, 7.4], dtype=float16)>"
      ]
     },
     "execution_count": 63,
     "metadata": {},
     "output_type": "execute_result"
    }
   ],
   "source": [
    "# Change from float32 to float16 (reducing precision)\n",
    "\n",
    "B = tf.cast(B, dtype=tf.float16)\n",
    "B"
   ]
  },
  {
   "cell_type": "code",
   "execution_count": 64,
   "id": "b495539f-21e8-4cfa-9940-86e179a5fdb7",
   "metadata": {},
   "outputs": [],
   "source": [
    "E = C / tf.cast(B, dtype=C.dtype)"
   ]
  },
  {
   "cell_type": "code",
   "execution_count": 65,
   "id": "e5d2401a-7319-4c3f-8a0f-b445637f79e0",
   "metadata": {},
   "outputs": [
    {
     "data": {
      "text/plain": [
       "<tf.Tensor: shape=(2,), dtype=float64, numpy=array([7.        , 1.42857143])>"
      ]
     },
     "execution_count": 65,
     "metadata": {},
     "output_type": "execute_result"
    }
   ],
   "source": [
    "E"
   ]
  },
  {
   "cell_type": "code",
   "execution_count": 66,
   "id": "831810e1-80ef-46f3-bb0c-51f2ab156455",
   "metadata": {},
   "outputs": [
    {
     "data": {
      "text/plain": [
       "<tf.Tensor: shape=(2,), dtype=int8, numpy=array([7, 1], dtype=int8)>"
      ]
     },
     "execution_count": 66,
     "metadata": {},
     "output_type": "execute_result"
    }
   ],
   "source": [
    "RR = tf.cast((C / tf.cast(B, dtype=C.dtype)), dtype=tf.int8)\n",
    "RR"
   ]
  },
  {
   "cell_type": "markdown",
   "id": "e889976d-ed37-4333-aa7d-b279918bbbf2",
   "metadata": {},
   "source": [
    "#### Aggregating tensors\n",
    "\n",
    "Let's go through the following forms of aggregation:\n",
    "* get absolute values\n",
    "* get the minimum\n",
    "* get the maximum\n",
    "* get the mean\n",
    "* get the sum \n",
    "* get the variance \n",
    "* get the datndard deviation"
   ]
  },
  {
   "cell_type": "code",
   "execution_count": 67,
   "id": "ba152fa4-63d9-4a47-abef-5e18917e0b5b",
   "metadata": {},
   "outputs": [
    {
     "data": {
      "text/plain": [
       "<tf.Tensor: shape=(3,), dtype=int32, numpy=array([ 1, -3, -8])>"
      ]
     },
     "execution_count": 67,
     "metadata": {},
     "output_type": "execute_result"
    }
   ],
   "source": [
    "# Get absolute values\n",
    "D = tf.constant([1, -3, -8])\n",
    "D"
   ]
  },
  {
   "cell_type": "code",
   "execution_count": 68,
   "id": "03187ddd-9b85-44c7-a5ef-6c22e4b69882",
   "metadata": {},
   "outputs": [
    {
     "data": {
      "text/plain": [
       "<tf.Tensor: shape=(3,), dtype=int32, numpy=array([1, 3, 8])>"
      ]
     },
     "execution_count": 68,
     "metadata": {},
     "output_type": "execute_result"
    }
   ],
   "source": [
    "tf.abs(D)"
   ]
  },
  {
   "cell_type": "code",
   "execution_count": 69,
   "id": "62cf952f-9950-4b0e-bc53-2d3486cd7ea8",
   "metadata": {},
   "outputs": [
    {
     "data": {
      "text/plain": [
       "<tf.Tensor: shape=(3, 4, 5), dtype=int32, numpy=\n",
       "array([[[56, 19, 66, 35, 62],\n",
       "        [25, 65, 76, 71, 20],\n",
       "        [17, 60, 34, 33, 99],\n",
       "        [14, 85, 89, 41, 92]],\n",
       "\n",
       "       [[82,  7, 80, 22, 79],\n",
       "        [18, 89, 22, 55, 98],\n",
       "        [33, 14, 42,  0, 42],\n",
       "        [65,  3, 74, 25, 56]],\n",
       "\n",
       "       [[78,  7,  9, 41, 18],\n",
       "        [52,  9, 19, 98,  3],\n",
       "        [93, 23, 59, 97, 12],\n",
       "        [81, 24, 20, 43, 65]]])>"
      ]
     },
     "execution_count": 69,
     "metadata": {},
     "output_type": "execute_result"
    }
   ],
   "source": [
    "# Get the minimum of a tensor\n",
    "arr = np.random.randint(0, 100, size=(3, 4, 5))\n",
    "TT = tf.constant(arr)\n",
    "TT"
   ]
  },
  {
   "cell_type": "code",
   "execution_count": 70,
   "id": "b842ad83-4140-4227-b5c8-b885ab951ccb",
   "metadata": {},
   "outputs": [
    {
     "data": {
      "text/plain": [
       "array([[<AxesSubplot:title={'center':'0'}>]], dtype=object)"
      ]
     },
     "execution_count": 70,
     "metadata": {},
     "output_type": "execute_result"
    },
    {
     "data": {
      "image/png": "[encoded data removed]",
      "text/plain": [
       "<Figure size 432x288 with 1 Axes>"
      ]
     },
     "metadata": {
      "needs_background": "light"
     },
     "output_type": "display_data"
    }
   ],
   "source": [
    "pd.DataFrame(np.ravel(TT)).hist(bins=66)"
   ]
  },
  {
   "cell_type": "code",
   "execution_count": 71,
   "id": "8be7cd2c-8aee-4696-a84e-034a72e502e5",
   "metadata": {},
   "outputs": [
    {
     "data": {
      "text/plain": [
       "<tf.Tensor: shape=(), dtype=int32, numpy=0>"
      ]
     },
     "execution_count": 71,
     "metadata": {},
     "output_type": "execute_result"
    }
   ],
   "source": [
    "tf.math.reduce_min(TT)"
   ]
  },
  {
   "cell_type": "code",
   "execution_count": 72,
   "id": "4149e99c-7aca-4dee-b034-aca021fa209b",
   "metadata": {},
   "outputs": [
    {
     "data": {
      "text/plain": [
       "<tf.Tensor: shape=(), dtype=int32, numpy=99>"
      ]
     },
     "execution_count": 72,
     "metadata": {},
     "output_type": "execute_result"
    }
   ],
   "source": [
    "# Get the maximum of a tensor\n",
    "tf.math.reduce_max(TT)"
   ]
  },
  {
   "cell_type": "code",
   "execution_count": 73,
   "id": "3f131922-1f47-4501-ac45-02a5486d8cd4",
   "metadata": {},
   "outputs": [
    {
     "data": {
      "text/plain": [
       "<tf.Tensor: shape=(), dtype=int32, numpy=2816>"
      ]
     },
     "execution_count": 73,
     "metadata": {},
     "output_type": "execute_result"
    }
   ],
   "source": [
    "# Get the sum of a tensor\n",
    "tf.math.reduce_sum(TT)"
   ]
  },
  {
   "cell_type": "code",
   "execution_count": 74,
   "id": "8c9916d1-1afd-4d0c-8da3-8dcd7c7c8316",
   "metadata": {},
   "outputs": [
    {
     "data": {
      "text/plain": [
       "<tf.Tensor: shape=(), dtype=int32, numpy=46>"
      ]
     },
     "execution_count": 74,
     "metadata": {},
     "output_type": "execute_result"
    }
   ],
   "source": [
    "# Get the mean of a tensor \n",
    "tf.math.reduce_mean(TT)"
   ]
  },
  {
   "cell_type": "code",
   "execution_count": 75,
   "id": "a57ca437-02aa-4496-acd0-610b7dc2bce3",
   "metadata": {},
   "outputs": [
    {
     "data": {
      "text/plain": [
       "tf.int32"
      ]
     },
     "execution_count": 75,
     "metadata": {},
     "output_type": "execute_result"
    }
   ],
   "source": [
    "TT.dtype"
   ]
  },
  {
   "cell_type": "code",
   "execution_count": 76,
   "id": "1c7dfafd-f324-4aff-9119-41419bdcb317",
   "metadata": {},
   "outputs": [
    {
     "data": {
      "text/plain": [
       "<tf.Tensor: shape=(), dtype=float16, numpy=909.0>"
      ]
     },
     "execution_count": 76,
     "metadata": {},
     "output_type": "execute_result"
    }
   ],
   "source": [
    "# Get the variance of a tensor \n",
    "tf.math.reduce_variance(tf.cast(TT, dtype=tf.float16))"
   ]
  },
  {
   "cell_type": "code",
   "execution_count": 77,
   "id": "5f16fadb-1524-4d47-833e-53c294e9ddf6",
   "metadata": {},
   "outputs": [
    {
     "data": {
      "text/plain": [
       "<tf.Tensor: shape=(), dtype=float16, numpy=30.16>"
      ]
     },
     "execution_count": 77,
     "metadata": {},
     "output_type": "execute_result"
    }
   ],
   "source": [
    "# Get the standard deviation of a tensor \n",
    "tf.math.reduce_std(tf.cast(TT, dtype=tf.float16))"
   ]
  },
  {
   "cell_type": "code",
   "execution_count": 78,
   "id": "ade8cd3c-fef7-4df6-8266-da1789e6ee39",
   "metadata": {},
   "outputs": [],
   "source": [
    "import tensorflow_probability as tfp"
   ]
  },
  {
   "cell_type": "code",
   "execution_count": 79,
   "id": "1b033be2-5ac2-4ee7-8ef8-56bad4e27c56",
   "metadata": {},
   "outputs": [
    {
     "data": {
      "text/plain": [
       "'0.11.0'"
      ]
     },
     "execution_count": 79,
     "metadata": {},
     "output_type": "execute_result"
    }
   ],
   "source": [
    "tfp.__version__"
   ]
  },
  {
   "cell_type": "code",
   "execution_count": 80,
   "id": "7d9fa688-6577-4e2b-b5f7-c4f618bdea47",
   "metadata": {},
   "outputs": [
    {
     "data": {
      "text/plain": [
       "<tf.Tensor: shape=(4, 5), dtype=float16, numpy=\n",
       "array([[11.43 ,  5.656, 30.7  ,  7.93 , 25.7  ],\n",
       "       [14.66 , 33.53 , 26.19 , 17.73 , 41.38 ],\n",
       "       [32.72 , 19.9  , 10.42 , 40.25 , 36.06 ],\n",
       "       [28.56 , 34.78 , 29.62 ,  8.05 , 15.3  ]], dtype=float16)>"
      ]
     },
     "execution_count": 80,
     "metadata": {},
     "output_type": "execute_result"
    }
   ],
   "source": [
    "tfp.stats.stddev(tf.cast(TT, dtype=tf.float16))"
   ]
  },
  {
   "cell_type": "code",
   "execution_count": 81,
   "id": "52c0cf21-6d94-4c6f-9eac-0d8b2d044d47",
   "metadata": {},
   "outputs": [
    {
     "data": {
      "text/plain": [
       "TensorShape([3, 4, 5])"
      ]
     },
     "execution_count": 81,
     "metadata": {},
     "output_type": "execute_result"
    }
   ],
   "source": [
    "tf.cast(TT, dtype=tf.float16).shape"
   ]
  },
  {
   "cell_type": "code",
   "execution_count": 82,
   "id": "ed552a10-a6e0-4b95-b81e-6fd165722e54",
   "metadata": {},
   "outputs": [
    {
     "name": "stdout",
     "output_type": "stream",
     "text": [
      "tf.Tensor(\n",
      "[[11.43   5.656 30.7    7.93  25.7  ]\n",
      " [14.66  33.53  26.19  17.73  41.38 ]\n",
      " [32.72  19.9   10.42  40.25  36.06 ]\n",
      " [28.56  34.78  29.62   8.05  15.3  ]], shape=(4, 5), dtype=float16)\n",
      "tf.Tensor(\n",
      "[[16.66 23.98 20.33 15.3  31.14]\n",
      " [25.3  35.28 23.67 19.58 21.44]\n",
      " [14.95  7.79 19.11 27.77 23.98]], shape=(3, 5), dtype=float16)\n",
      "tf.Tensor(\n",
      "[[17.86 23.9  28.72 31.22]\n",
      " [32.6  33.   16.61 26.55]\n",
      " [26.6  35.22 34.88 23.45]], shape=(3, 4), dtype=float16)\n"
     ]
    }
   ],
   "source": [
    "for axis in range(0,3):\n",
    "    r = tfp.stats.stddev(tf.cast(TT, dtype=tf.float16), sample_axis=axis)\n",
    "    print(r)"
   ]
  },
  {
   "cell_type": "markdown",
   "id": "28efa82f-b7fe-422c-b2c4-daa60fa934ba",
   "metadata": {},
   "source": [
    "#### Find the positional maximum and minimum"
   ]
  },
  {
   "cell_type": "code",
   "execution_count": 83,
   "id": "4e95fb17-28aa-4d27-a8c4-426463485e54",
   "metadata": {},
   "outputs": [
    {
     "data": {
      "text/plain": [
       "<tf.Tensor: shape=(50,), dtype=float32, numpy=\n",
       "array([0.6645621 , 0.44100678, 0.3528825 , 0.46448255, 0.03366041,\n",
       "       0.68467236, 0.74011743, 0.8724445 , 0.22632635, 0.22319686,\n",
       "       0.3103881 , 0.7223358 , 0.13318717, 0.5480639 , 0.5746088 ,\n",
       "       0.8996835 , 0.00946367, 0.5212307 , 0.6345445 , 0.1993283 ,\n",
       "       0.72942245, 0.54583454, 0.10756552, 0.6767061 , 0.6602763 ,\n",
       "       0.33695042, 0.60141766, 0.21062577, 0.8527372 , 0.44062173,\n",
       "       0.9485276 , 0.23752594, 0.81179297, 0.5263394 , 0.494308  ,\n",
       "       0.21612847, 0.8457197 , 0.8718841 , 0.3083862 , 0.6868038 ,\n",
       "       0.23764038, 0.7817228 , 0.9671384 , 0.06870162, 0.79873943,\n",
       "       0.66028714, 0.5871513 , 0.16461694, 0.7381023 , 0.32054043],\n",
       "      dtype=float32)>"
      ]
     },
     "execution_count": 83,
     "metadata": {},
     "output_type": "execute_result"
    }
   ],
   "source": [
    "# Create a new tensor from uniform diatribution\n",
    "\n",
    "tf.random.set_seed(42)\n",
    "F=tf.random.uniform(shape=[50])\n",
    "F"
   ]
  },
  {
   "cell_type": "code",
   "execution_count": 84,
   "id": "40ed76b3-a511-474b-913c-c2be9ab8d62d",
   "metadata": {},
   "outputs": [
    {
     "data": {
      "text/plain": [
       "<tf.Tensor: shape=(), dtype=int64, numpy=42>"
      ]
     },
     "execution_count": 84,
     "metadata": {},
     "output_type": "execute_result"
    }
   ],
   "source": [
    "# Find the positional maximum\n",
    "tf.argmax(F)"
   ]
  },
  {
   "cell_type": "code",
   "execution_count": 85,
   "id": "bb2ae839-78dd-4584-b323-089d936e3dd0",
   "metadata": {},
   "outputs": [
    {
     "name": "stdout",
     "output_type": "stream",
     "text": [
      "tf.Tensor(0.9671384, shape=(), dtype=float32)\n"
     ]
    },
    {
     "data": {
      "text/plain": [
       "<tf.Tensor: shape=(), dtype=bool, numpy=True>"
      ]
     },
     "execution_count": 85,
     "metadata": {},
     "output_type": "execute_result"
    }
   ],
   "source": [
    "# Find the value of the positional argument\n",
    "print(F[tf.argmax(F)])\n",
    "F[tf.argmax(F)] == tf.reduce_max(F)"
   ]
  },
  {
   "cell_type": "code",
   "execution_count": 86,
   "id": "6481af94-3f86-40a5-bff1-adfdd7ecda7c",
   "metadata": {},
   "outputs": [
    {
     "data": {
      "text/plain": [
       "<tf.Tensor: shape=(), dtype=int64, numpy=16>"
      ]
     },
     "execution_count": 86,
     "metadata": {},
     "output_type": "execute_result"
    }
   ],
   "source": [
    "# Find the positional minimum \n",
    "tf.argmin(F)"
   ]
  },
  {
   "cell_type": "code",
   "execution_count": 87,
   "id": "7ff2983f-54de-41c6-bb2b-3b78e4e218ca",
   "metadata": {},
   "outputs": [
    {
     "data": {
      "text/plain": [
       "<tf.Tensor: shape=(), dtype=float32, numpy=0.009463668>"
      ]
     },
     "execution_count": 87,
     "metadata": {},
     "output_type": "execute_result"
    }
   ],
   "source": [
    "F[tf.argmin(F)]"
   ]
  },
  {
   "cell_type": "markdown",
   "id": "e180b14d-bb81-428b-a529-07e8e051061f",
   "metadata": {},
   "source": [
    "#### Squeezing a tensor"
   ]
  },
  {
   "cell_type": "code",
   "execution_count": 88,
   "id": "1249e404-1feb-4421-a9d4-a2431d8c583e",
   "metadata": {},
   "outputs": [],
   "source": [
    "tf.random.set_seed(42)\n",
    "G = tf.constant(tf.random.uniform(shape=[50, 1, 2]), shape=(1, 1, 1, 2, 1, 50))"
   ]
  },
  {
   "cell_type": "code",
   "execution_count": 89,
   "id": "d72c60d9-66e3-4336-b4bd-1ffce6ba4487",
   "metadata": {},
   "outputs": [
    {
     "data": {
      "text/plain": [
       "<tf.Tensor: shape=(1, 1, 1, 2, 1, 50), dtype=float32, numpy=\n",
       "array([[[[[[0.6645621 , 0.44100678, 0.3528825 , 0.46448255,\n",
       "            0.03366041, 0.68467236, 0.74011743, 0.8724445 ,\n",
       "            0.22632635, 0.22319686, 0.3103881 , 0.7223358 ,\n",
       "            0.13318717, 0.5480639 , 0.5746088 , 0.8996835 ,\n",
       "            0.00946367, 0.5212307 , 0.6345445 , 0.1993283 ,\n",
       "            0.72942245, 0.54583454, 0.10756552, 0.6767061 ,\n",
       "            0.6602763 , 0.33695042, 0.60141766, 0.21062577,\n",
       "            0.8527372 , 0.44062173, 0.9485276 , 0.23752594,\n",
       "            0.81179297, 0.5263394 , 0.494308  , 0.21612847,\n",
       "            0.8457197 , 0.8718841 , 0.3083862 , 0.6868038 ,\n",
       "            0.23764038, 0.7817228 , 0.9671384 , 0.06870162,\n",
       "            0.79873943, 0.66028714, 0.5871513 , 0.16461694,\n",
       "            0.7381023 , 0.32054043]],\n",
       "\n",
       "          [[0.6073899 , 0.46523476, 0.97803545, 0.7223145 ,\n",
       "            0.32347047, 0.82577336, 0.4976915 , 0.19483674,\n",
       "            0.7588748 , 0.3380444 , 0.28128064, 0.31513572,\n",
       "            0.60670924, 0.7498598 , 0.5016055 , 0.18282163,\n",
       "            0.13179815, 0.64636123, 0.9559475 , 0.6670735 ,\n",
       "            0.30755532, 0.36892188, 0.44735897, 0.18359458,\n",
       "            0.5288255 , 0.7052754 , 0.898633  , 0.31386292,\n",
       "            0.62338257, 0.96815526, 0.11207926, 0.29590535,\n",
       "            0.9356605 , 0.1341263 , 0.31937933, 0.262277  ,\n",
       "            0.03148758, 0.90045524, 0.6409379 , 0.5821855 ,\n",
       "            0.20917094, 0.71736085, 0.363523  , 0.04670918,\n",
       "            0.14977789, 0.84361756, 0.9355587 , 0.09517312,\n",
       "            0.08617878, 0.6247839 ]]]]]], dtype=float32)>"
      ]
     },
     "execution_count": 89,
     "metadata": {},
     "output_type": "execute_result"
    }
   ],
   "source": [
    "G"
   ]
  },
  {
   "cell_type": "code",
   "execution_count": 90,
   "id": "3f5e757a-4fd4-42b1-9fee-29c2a9580b5b",
   "metadata": {},
   "outputs": [],
   "source": [
    "G_squeezed = tf.squeeze(G)"
   ]
  },
  {
   "cell_type": "code",
   "execution_count": 91,
   "id": "03c06640-c3e6-43ad-834e-fad745962ff7",
   "metadata": {},
   "outputs": [
    {
     "data": {
      "text/plain": [
       "<tf.Tensor: shape=(2, 50), dtype=float32, numpy=\n",
       "array([[0.6645621 , 0.44100678, 0.3528825 , 0.46448255, 0.03366041,\n",
       "        0.68467236, 0.74011743, 0.8724445 , 0.22632635, 0.22319686,\n",
       "        0.3103881 , 0.7223358 , 0.13318717, 0.5480639 , 0.5746088 ,\n",
       "        0.8996835 , 0.00946367, 0.5212307 , 0.6345445 , 0.1993283 ,\n",
       "        0.72942245, 0.54583454, 0.10756552, 0.6767061 , 0.6602763 ,\n",
       "        0.33695042, 0.60141766, 0.21062577, 0.8527372 , 0.44062173,\n",
       "        0.9485276 , 0.23752594, 0.81179297, 0.5263394 , 0.494308  ,\n",
       "        0.21612847, 0.8457197 , 0.8718841 , 0.3083862 , 0.6868038 ,\n",
       "        0.23764038, 0.7817228 , 0.9671384 , 0.06870162, 0.79873943,\n",
       "        0.66028714, 0.5871513 , 0.16461694, 0.7381023 , 0.32054043],\n",
       "       [0.6073899 , 0.46523476, 0.97803545, 0.7223145 , 0.32347047,\n",
       "        0.82577336, 0.4976915 , 0.19483674, 0.7588748 , 0.3380444 ,\n",
       "        0.28128064, 0.31513572, 0.60670924, 0.7498598 , 0.5016055 ,\n",
       "        0.18282163, 0.13179815, 0.64636123, 0.9559475 , 0.6670735 ,\n",
       "        0.30755532, 0.36892188, 0.44735897, 0.18359458, 0.5288255 ,\n",
       "        0.7052754 , 0.898633  , 0.31386292, 0.62338257, 0.96815526,\n",
       "        0.11207926, 0.29590535, 0.9356605 , 0.1341263 , 0.31937933,\n",
       "        0.262277  , 0.03148758, 0.90045524, 0.6409379 , 0.5821855 ,\n",
       "        0.20917094, 0.71736085, 0.363523  , 0.04670918, 0.14977789,\n",
       "        0.84361756, 0.9355587 , 0.09517312, 0.08617878, 0.6247839 ]],\n",
       "      dtype=float32)>"
      ]
     },
     "execution_count": 91,
     "metadata": {},
     "output_type": "execute_result"
    }
   ],
   "source": [
    "G_squeezed"
   ]
  },
  {
   "cell_type": "markdown",
   "id": "6b3eec83-1546-4429-93da-eacc614d331a",
   "metadata": {},
   "source": [
    "#### One-hot encoding tensors"
   ]
  },
  {
   "cell_type": "code",
   "execution_count": 92,
   "id": "c8295b19-e50d-40d4-a198-c6834309aac4",
   "metadata": {},
   "outputs": [],
   "source": [
    "# Create a list of indices\n",
    "\n",
    "some_list = [0, 1, 2, 3]"
   ]
  },
  {
   "cell_type": "code",
   "execution_count": 93,
   "id": "2c4b7123-0fbc-4a93-a0ec-0dc6e2a78e10",
   "metadata": {},
   "outputs": [
    {
     "data": {
      "text/plain": [
       "<tf.Tensor: shape=(4, 3), dtype=float32, numpy=\n",
       "array([[1., 0., 0.],\n",
       "       [0., 1., 0.],\n",
       "       [0., 0., 1.],\n",
       "       [0., 0., 0.]], dtype=float32)>"
      ]
     },
     "execution_count": 93,
     "metadata": {},
     "output_type": "execute_result"
    }
   ],
   "source": [
    "tf.one_hot(some_list, depth=len(some_list)-1)"
   ]
  },
  {
   "cell_type": "code",
   "execution_count": 94,
   "id": "5860194d-dffb-47c8-ba49-48ec8772aef6",
   "metadata": {},
   "outputs": [
    {
     "data": {
      "text/plain": [
       "<tf.Tensor: shape=(4, 3), dtype=int32, numpy=\n",
       "array([[ 1, -1, -1],\n",
       "       [-1,  1, -1],\n",
       "       [-1, -1,  1],\n",
       "       [-1, -1, -1]])>"
      ]
     },
     "execution_count": 94,
     "metadata": {},
     "output_type": "execute_result"
    }
   ],
   "source": [
    "# Specify custom values for one-hot encoding\n",
    "\n",
    "tf.one_hot(some_list, depth=len(some_list)-1, on_value=1, off_value=-1)"
   ]
  },
  {
   "cell_type": "markdown",
   "id": "8d334e94-044c-44ec-8e53-d2f6a96ddeed",
   "metadata": {},
   "source": [
    "#### Squaring, log and root square"
   ]
  },
  {
   "cell_type": "code",
   "execution_count": 95,
   "id": "d9e954f6-5c59-4d73-a37a-bd7f67f642b6",
   "metadata": {},
   "outputs": [
    {
     "data": {
      "text/plain": [
       "<tf.Tensor: shape=(2, 2), dtype=float32, numpy=\n",
       "array([[ 0.08422458, -0.86090374],\n",
       "       [ 0.37812304, -0.00519627]], dtype=float32)>"
      ]
     },
     "execution_count": 95,
     "metadata": {},
     "output_type": "execute_result"
    }
   ],
   "source": [
    "H = tf.random.normal([2, 2])\n",
    "H"
   ]
  },
  {
   "cell_type": "code",
   "execution_count": 96,
   "id": "f40673d2-2c65-469e-8674-86d38a59ebda",
   "metadata": {},
   "outputs": [
    {
     "data": {
      "text/plain": [
       "<tf.Tensor: shape=(2, 2), dtype=float32, numpy=\n",
       "array([[7.0937802e-03, 7.4115527e-01],\n",
       "       [1.4297704e-01, 2.7001261e-05]], dtype=float32)>"
      ]
     },
     "execution_count": 96,
     "metadata": {},
     "output_type": "execute_result"
    }
   ],
   "source": [
    "tf.square(H)"
   ]
  },
  {
   "cell_type": "code",
   "execution_count": 97,
   "id": "5d8c28a6-456b-4177-9a0f-5c4729aa4dbd",
   "metadata": {},
   "outputs": [
    {
     "data": {
      "text/plain": [
       "<tf.Tensor: shape=(2, 2), dtype=float32, numpy=\n",
       "array([[0.29021472,        nan],\n",
       "       [0.61491704,        nan]], dtype=float32)>"
      ]
     },
     "execution_count": 97,
     "metadata": {},
     "output_type": "execute_result"
    }
   ],
   "source": [
    "tf.sqrt(H)"
   ]
  },
  {
   "cell_type": "code",
   "execution_count": 98,
   "id": "c84eaae1-2c14-4679-ac95-ef67ac1bd5c4",
   "metadata": {},
   "outputs": [
    {
     "data": {
      "text/plain": [
       "<tf.Tensor: shape=(2, 2), dtype=float32, numpy=\n",
       "array([[-2.4742684,        nan],\n",
       "       [-0.9725356,        nan]], dtype=float32)>"
      ]
     },
     "execution_count": 98,
     "metadata": {},
     "output_type": "execute_result"
    }
   ],
   "source": [
    "tf.math.log(H)"
   ]
  },
  {
   "cell_type": "code",
   "execution_count": 99,
   "id": "db0b514e-b119-401b-aecc-0b57f97deeef",
   "metadata": {},
   "outputs": [
    {
     "data": {
      "text/plain": [
       "<tf.Tensor: shape=(2, 2), dtype=float32, numpy=\n",
       "array([[ 0.0843242 , -0.97125876],\n",
       "       [ 0.38719815, -0.0051963 ]], dtype=float32)>"
      ]
     },
     "execution_count": 99,
     "metadata": {},
     "output_type": "execute_result"
    }
   ],
   "source": [
    "tf.math.sinh(H)"
   ]
  },
  {
   "cell_type": "code",
   "execution_count": 100,
   "id": "1c4bbaeb-f796-431e-8ee6-70e1e118100b",
   "metadata": {},
   "outputs": [
    {
     "data": {
      "text/plain": [
       "[0.3274685,\n",
       " -0.8426258,\n",
       " 0.3194337,\n",
       " -0.5573232,\n",
       " 0.539707,\n",
       " 1.6994323,\n",
       " 0.28893656,\n",
       " -0.26454744,\n",
       " -0.59722406,\n",
       " -0.62044144,\n",
       " 0.8504023,\n",
       " -0.40604794,\n",
       " 0.9058464,\n",
       " 0.29855987,\n",
       " -1.0392479,\n",
       " -1.4075519,\n",
       " -1.9171132,\n",
       " -3.0258412,\n",
       " -2.3880599,\n",
       " -1.5066116]"
      ]
     },
     "execution_count": 100,
     "metadata": {},
     "output_type": "execute_result"
    }
   ],
   "source": [
    "tf.random.set_seed(42)\n",
    "x_vals = list(set(tf.random.normal([20]).numpy()))\n",
    "x_vals"
   ]
  },
  {
   "cell_type": "code",
   "execution_count": 101,
   "id": "4f2924cf-5dd4-48d9-8b6f-931032087daf",
   "metadata": {},
   "outputs": [
    {
     "data": {
      "text/plain": [
       "array([  0.33335268,  -0.9459394 ,   0.32489386,  -0.58662623,\n",
       "         0.5662926 ,   2.6440265 ,   0.29297364,  -0.267644  ,\n",
       "        -0.6333653 ,  -0.6610209 ,   0.9566726 ,  -0.41729814,\n",
       "         1.0349127 ,   0.3030152 ,  -1.2366847 ,  -1.9205993 ,\n",
       "        -3.3271327 , -10.281409  ,  -5.4002666 ,  -2.1448793 ],\n",
       "      dtype=float32)"
      ]
     },
     "execution_count": 101,
     "metadata": {},
     "output_type": "execute_result"
    }
   ],
   "source": [
    "y_vals = tf.sinh(x_vals).numpy()\n",
    "y_vals"
   ]
  },
  {
   "cell_type": "code",
   "execution_count": 102,
   "id": "cbe8138f-8470-47b9-8a7c-0feb1ee25c12",
   "metadata": {},
   "outputs": [],
   "source": [
    "sinh_df = pd.DataFrame(x_vals, y_vals)"
   ]
  },
  {
   "cell_type": "code",
   "execution_count": 103,
   "id": "6afc8174-c55f-4e73-9453-96cdd9387292",
   "metadata": {},
   "outputs": [],
   "source": [
    "import matplotlib.pyplot as plt"
   ]
  },
  {
   "cell_type": "code",
   "execution_count": 104,
   "id": "3a0fd15a-4da0-4d3d-bc10-32fb7145024b",
   "metadata": {},
   "outputs": [
    {
     "data": {
      "text/plain": [
       "[<matplotlib.lines.Line2D at 0x27144eae4c8>]"
      ]
     },
     "execution_count": 104,
     "metadata": {},
     "output_type": "execute_result"
    },
    {
     "data": {
      "image/png": "[encoded data removed]",
      "text/plain": [
       "<Figure size 432x288 with 1 Axes>"
      ]
     },
     "metadata": {
      "needs_background": "light"
     },
     "output_type": "display_data"
    }
   ],
   "source": [
    "plt.plot(sinh_df)"
   ]
  },
  {
   "cell_type": "markdown",
   "id": "7235211e-ce74-4b55-84b8-e19b06c1beb5",
   "metadata": {},
   "source": [
    "### Tensors and Numpy"
   ]
  },
  {
   "cell_type": "code",
   "execution_count": 105,
   "id": "3644de04-a246-4398-9fc7-5b0f05805921",
   "metadata": {},
   "outputs": [
    {
     "data": {
      "text/plain": [
       "<tf.Tensor: shape=(3,), dtype=float64, numpy=array([1. , 3. , 6.2])>"
      ]
     },
     "execution_count": 105,
     "metadata": {},
     "output_type": "execute_result"
    }
   ],
   "source": [
    "# Create a tensor directly from a NumPy array\n",
    "\n",
    "J = tf.constant(np.array([1., 3., 6.2]))\n",
    "J"
   ]
  },
  {
   "cell_type": "code",
   "execution_count": 106,
   "id": "74fdfbcf-4e49-41ec-a98c-9f976ac52e54",
   "metadata": {},
   "outputs": [
    {
     "data": {
      "text/plain": [
       "array([1. , 3. , 6.2])"
      ]
     },
     "execution_count": 106,
     "metadata": {},
     "output_type": "execute_result"
    }
   ],
   "source": [
    "# Convert our tensor back to NumPy array\n",
    "np.array(J)"
   ]
  },
  {
   "cell_type": "code",
   "execution_count": 107,
   "id": "435b7702-5d20-4759-88d0-4a161524af67",
   "metadata": {},
   "outputs": [
    {
     "data": {
      "text/plain": [
       "array([1. , 3. , 6.2])"
      ]
     },
     "execution_count": 107,
     "metadata": {},
     "output_type": "execute_result"
    }
   ],
   "source": [
    "J.numpy()"
   ]
  },
  {
   "cell_type": "code",
   "execution_count": 108,
   "id": "020501e6-d10e-44a5-ab61-edea8f919c1b",
   "metadata": {},
   "outputs": [
    {
     "data": {
      "text/plain": [
       "<tf.Tensor: shape=(), dtype=float64, numpy=1.0>"
      ]
     },
     "execution_count": 108,
     "metadata": {},
     "output_type": "execute_result"
    }
   ],
   "source": [
    "J[0]"
   ]
  },
  {
   "cell_type": "code",
   "execution_count": 109,
   "id": "08bb605d-5896-45a1-b735-2453dfdc3903",
   "metadata": {},
   "outputs": [
    {
     "data": {
      "text/plain": [
       "(tf.float64, tf.float32)"
      ]
     },
     "execution_count": 109,
     "metadata": {},
     "output_type": "execute_result"
    }
   ],
   "source": [
    "# The default types when creating a tensor from a NumPy array and using the quicker method\n",
    "numpy_K = tf.constant(np.array([3., 44.]))\n",
    "tensor_K = tf.constant([3., 44.])\n",
    "# Check the datatypes\n",
    "numpy_K.dtype, tensor_K.dtype"
   ]
  },
  {
   "cell_type": "code",
   "execution_count": 110,
   "id": "8618ce2b-03a8-4ba3-b17f-72b4b631139e",
   "metadata": {},
   "outputs": [
    {
     "data": {
      "text/plain": [
       "(tf.int32, tf.int32)"
      ]
     },
     "execution_count": 110,
     "metadata": {},
     "output_type": "execute_result"
    }
   ],
   "source": [
    "numpy_L = tf.constant(np.array([3, 44]))\n",
    "tensor_L = tf.constant([3, 44])\n",
    "# Check the datatypes\n",
    "numpy_L.dtype, tensor_L.dtype"
   ]
  },
  {
   "cell_type": "markdown",
   "id": "e7a755b7-599b-46f8-8e4a-14de8784038b",
   "metadata": {},
   "source": [
    "### Using the `@tf.function` decorator"
   ]
  },
  {
   "cell_type": "code",
   "execution_count": 111,
   "id": "29c93fa7-6541-4b40-9e51-dacc372bebcf",
   "metadata": {},
   "outputs": [
    {
     "data": {
      "text/plain": [
       "[PhysicalDevice(name='/physical_device:CPU:0', device_type='CPU')]"
      ]
     },
     "execution_count": 111,
     "metadata": {},
     "output_type": "execute_result"
    }
   ],
   "source": [
    "tf.config.list_physical_devices()"
   ]
  },
  {
   "cell_type": "code",
   "execution_count": 112,
   "id": "4392f27d-118d-4651-937e-991297f4b04b",
   "metadata": {},
   "outputs": [
    {
     "data": {
      "text/plain": [
       "[]"
      ]
     },
     "execution_count": 112,
     "metadata": {},
     "output_type": "execute_result"
    }
   ],
   "source": [
    "tf.config.list_physical_devices('GPU')"
   ]
  },
  {
   "cell_type": "code",
   "execution_count": 113,
   "id": "9f1051d5-a866-4d4c-930d-8bd1db4a2117",
   "metadata": {},
   "outputs": [
    {
     "ename": "SyntaxError",
     "evalue": "invalid syntax (799945770.py, line 1)",
     "output_type": "error",
     "traceback": [
      "\u001b[1;36m  File \u001b[1;32m\"C:\\Users\\AndrzejO\\AppData\\Local\\Temp\\ipykernel_14388\\799945770.py\"\u001b[1;36m, line \u001b[1;32m1\u001b[0m\n\u001b[1;33m    import tensorflow-gpu as tgp\u001b[0m\n\u001b[1;37m                     ^\u001b[0m\n\u001b[1;31mSyntaxError\u001b[0m\u001b[1;31m:\u001b[0m invalid syntax\n"
     ]
    }
   ],
   "source": [
    "import tensorflow-gpu as tgp"
   ]
  },
  {
   "cell_type": "code",
   "execution_count": null,
   "id": "b94b9971-a7d8-4094-ac75-19dec976d04e",
   "metadata": {},
   "outputs": [],
   "source": [
    "!nvidia-smi"
   ]
  },
  {
   "cell_type": "code",
   "execution_count": null,
   "id": "f2b1c87c-e8a0-4128-a8d2-3a88f67009f3",
   "metadata": {},
   "outputs": [],
   "source": []
  }
 ],
 "metadata": {
  "kernelspec": {
   "display_name": "Python [conda env:keras-gpu]",
   "language": "python",
   "name": "conda-env-keras-gpu-py"
  },
  "language_info": {
   "codemirror_mode": {
    "name": "ipython",
    "version": 3
   },
   "file_extension": ".py",
   "mimetype": "text/x-python",
   "name": "python",
   "nbconvert_exporter": "python",
   "pygments_lexer": "ipython3",
   "version": "3.7.12"
  }
 },
 "nbformat": 4,
 "nbformat_minor": 5
}
